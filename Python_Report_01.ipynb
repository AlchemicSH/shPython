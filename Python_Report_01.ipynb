{
 "metadata": {
  "name": "",
  "signature": "sha256:6e377ca2c0510ab5452a83105a377526762e8fa566d1fe118f59b2d5d76dac6f"
 },
 "nbformat": 3,
 "nbformat_minor": 0,
 "worksheets": [
  {
   "cells": [
    {
     "cell_type": "markdown",
     "metadata": {},
     "source": [
      "<center><font size = 7pt><b>\ud30c\uc774\uc36c \ud504\ub85c\uadf8\ub798\ubc0d</b></font></center>"
     ]
    },
    {
     "cell_type": "markdown",
     "metadata": {},
     "source": [
      "<center><font size = 6pt><b>Report 01</b></font></center>"
     ]
    },
    {
     "cell_type": "markdown",
     "metadata": {},
     "source": [
      "<br>\n",
      "<font size = 5pt><b><div align = \"right\">\ud559\ubc88 : 2012136090</div>\n",
      "<br>\n",
      "<div align = \"right\">\uc774\ub984 : \uc774 \uc138 \ud55c</div></b></font>"
     ]
    },
    {
     "cell_type": "markdown",
     "metadata": {},
     "source": [
      "<br>"
     ]
    },
    {
     "cell_type": "markdown",
     "metadata": {},
     "source": [
      "<font size = 4pt><b>1. \uc11c\ub860</b></font>"
     ]
    },
    {
     "cell_type": "markdown",
     "metadata": {},
     "source": [
      "<pre><font size = 4pt>\n",
      "\uc774\ubc88 \uacfc\uc81c\ub294 \ucd1d 7\ubb38\uc81c\uc758 \ud30c\uc774\uc36c \ud504\ub85c\uadf8\ub798\ubc0d\uc744 \uc218\ud589\ud558\uc5ec \uadf8 \uacb0\uacfc\ub97c \ub098\ud0c0\ub0b4\uace0 \uc65c \uc774\ub7ec\ud55c \uacb0\uacfc\uac00 \ub098\uc624\uac8c \ub418\uc5c8\ub294\uc9c0\uc5d0 \ub300\ud574 \uc124\uba85\uc744 \ud558\ub294 \uac83\uc785\ub2c8\ub2e4.\n",
      "</font></pre>\n",
      "<br><br>"
     ]
    },
    {
     "cell_type": "markdown",
     "metadata": {},
     "source": [
      "<font size = 4pt><b>2. \ubcf8\ub860</b></font>"
     ]
    },
    {
     "cell_type": "markdown",
     "metadata": {},
     "source": [
      "<pre><font size = 4pt>\n",
      "\ubb38\uc81c\ub294 \ub2e4\uc74c\uacfc \uac19\uc774 \ucd1d 7\ubb38\uc81c\ub85c \uc774\ub8e8\uc5b4\uc838 \uc788\uc2b5\ub2c8\ub2e4.\n",
      "\u25cf a=\"Hello Python\" \ubb38\uc790\uc5f4\uc744 Slicing\uacfc \uc5f0\uacb0 \uc5f0\uc0b0\uc790 (+)\ub97c \uc0ac\uc6a9\ud558\uc5ec \"Python Hello\"\ub85c \ubcc0\uacbd\ud558\uc2dc\uc624.\n",
      "  \u00b7 [\uc8fc\uc758] a \ubcc0\uc218 \uc790\uccb4\uc5d0 \"Python Hello\" \ubb38\uc790\uc5f4\uc774 \uc800\uc7a5\ub418\uc5b4\uc57c \ud568.\n",
      "  \n",
      "\u25cf b=\"Hello Python World\" \ubb38\uc790\uc5f4\uc744 Slicing\uacfc \uc5f0\uacb0 \uc5f0\uc0b0\uc790 (+)\ub97c \uc0ac\uc6a9\ud558\uc5ec \"World Python Hello\"\ub85c \ubcc0\uacbd\ud558\uc2dc\uc624.\n",
      "  \u00b7 [\uc8fc\uc758] b \ubcc0\uc218 \uc790\uccb4\uc5d0 \"Python Hello\" \ubb38\uc790\uc5f4\uc774 \uc800\uc7a5\ub418\uc5b4\uc57c \ud568.\n",
      "  \n",
      "\u25cf c=\"Hello\"\ub97c \"olleH\"\ub85c \ubcc0\uacbd\ud558\uc2dc\uc624.\n",
      "  \u00b7 [\uc8fc\uc758] c \ubcc0\uc218 \uc790\uccb4\uc5d0 \"olleH\" \ubb38\uc790\uc5f4\uc774 \uc800\uc7a5\ub418\uc5b4\uc57c \ud568.\n",
      "  \n",
      "\u25cf s=\"python\"\uc5d0 \ub300\ud574 \ub2e4\uc74c \ubb38\uc81c\ub97c \ud480\uc5b4\ubcf4\uc2dc\uc624.\n",
      "   1) s[0], s[0][0], s[0][0][0]\uc740 \uac01\uac01 \uc5b4\ub5a4 \uac12\uc774 \ub098\uc624\ub294\uc9c0 \ud655\uc778\ud558\uace0 \uadf8 \uc774\uc720\ub97c \ub098\ub984\ub300\ub85c \uc124\uba85\ud574 \ubcf4\uc2dc\uc624.\n",
      "   2) s[-100], s[100]\uc740 \uac12\uc774 \ub098\uc624\ub294\uc9c0 \uc5d0\ub7ec\uac00 \ub098\uc624\ub294\uc9c0 \ud655\uc778\ud558\uace0 \uadf8 \uacb0\uacfc\uc5d0 \ub300\ud55c \uc774\uc720\ub97c \ub098\ub984\ub300\ub85c \uc124\uba85\ud574 \ubcf4\uc2dc\uc624.\n",
      "   3) s[-100, 100]\uc740 \uac12\uc774 \ub098\uc624\ub294\uc9c0 \uc5d0\ub7ec\uac00 \ub098\uc624\ub294\uc9c0 \ud655\uc778\ud558\uace0 \uadf8 \uacb0\uacfc\uc5d0 \ub300\ud55c \uc774\uc720\ub97c \ub098\ub984\ub300\ub85c \uc124\uba85\ud574 \ubcf4\uc2dc\uc624.\n",
      "   4) s[1:-1]\uc758 \uacb0\uacfc\ub97c \ud655\uc778\ud558\uace0 \uadf8 \uacb0\uacfc\uc5d0 \ub300\ud55c \uc774\uc720\ub97c \uc815\ud655\ud558\uac8c \uc124\uba85\ud558\uc2dc\uc624.\n",
      "   5) s[3:-3]\uc758 \uacb0\uacfc\ub97c \ud655\uc778\ud558\uace0 \uadf8 \uacb0\uacfc\uc5d0 \ub300\ud55c \uc774\uc720\ub97c \uc815\ud655\ud558\uac8c \uc124\uba85\ud558\uc2dc\uc624.\n",
      "   \n",
      "\u25cf for\ubb38\uc744 \ud65c\uc6a9\ud558\uc5ec 1\ubd80\ud130 100\uc0ac\uc774\uc758 \ud640\uc218\ub97c \ucd9c\ub825\ud558\uc2dc\uc624.\n",
      "\n",
      "\u25cf while\ubb38\uc744 \ud65c\uc6a9\ud558\uc5ec 1\ubd80\ud130 100\uc0ac\uc774\uc758 \uc9dd\uc218\uc758 \ud569\uc744 \uacc4\uc0b0\ud558\uc5ec \ucd9c\ub825\ud558\uc2dc\uc624.\n",
      "\n",
      "\u25cf \uc678\ubd80\ub85c \ubd80\ud130 \uc815\uc218\ub97c \uc785\ub825\ubc1b\uc544\uc11c 1\ubd80\ud130 \uadf8 \uc0ac\uc774\uc5d0 \uc874\uc7ac\ud558\ub294 \uc18c\uc218 (Prime number)\ub97c \ucd9c\ub825\ud558\ub294 \ud30c\uc774\uc36c \ud504\ub85c\uadf8\ub7a8\uc744 \uc791\uc131\ud558\uc2dc\uc624.\n",
      "\n",
      "\n",
      "\n",
      "<b>\n",
      "- \ubb38\uc81c \uc218\ud589 \uacb0\uacfc -</b>\n",
      "\n",
      "  \uccab \ubc88\uc9f8 \ubb38\uc81c\uc785\ub2c8\ub2e4. a\ub77c\ub294 \ubcc0\uc218\uc5d0 \uba3c\uc800 \"Hello Python\"\uc774\ub77c\ub294 \ubb38\uc790\uc5f4\uc744 \uc800\uc7a5\ud558\uace0 \uc774\ub97c \"Python Hello\"\ub85c \ubcc0\uacbd\ud558\uba74 \ub418\ub294 \ubb38\uc81c\uc785\ub2c8\ub2e4.</font></pre>"
     ]
    },
    {
     "cell_type": "code",
     "collapsed": false,
     "input": [
      "a = \"Hello Python\"\n",
      "a = a[6:] + \" \" + a[0:5]\n",
      "print a"
     ],
     "language": "python",
     "metadata": {},
     "outputs": [
      {
       "output_type": "stream",
       "stream": "stdout",
       "text": [
        "Python Hello\n"
       ]
      }
     ],
     "prompt_number": 8
    },
    {
     "cell_type": "markdown",
     "metadata": {},
     "source": [
      "<pre><font size = 4pt>\n",
      "\uc81c\ub300\ub85c a\ubcc0\uc218\uc5d0 \"Python Hello\"\ub77c\ub294 \ubb38\uc790\uc5f4\uc774 \uc800\uc7a5\ub418\uc5b4 \ucd9c\ub825\uc774 \ub418\ub294 \uac83\uc744 \ubcf4\uc2e4 \uc218 \uc788\uc2b5\ub2c8\ub2e4.\n",
      "\n",
      "\n",
      "\n",
      "\ub450 \ubc88\uc9f8 \ubb38\uc81c\uc785\ub2c8\ub2e4. b\ub77c\ub294 \ubcc0\uc218\uc5d0 \uba3c\uc800 \"Hello Python World\"\ub77c\ub294 \ubb38\uc790\uc5f4\uc744 \uc800\uc7a5\ud558\uace0 \uc774\ub97c \"World Python Hello\"\ub85c \ubcc0\uacbd\ud558\uba74 \ub418\ub294 \ubb38\uc81c\uc785\ub2c8\ub2e4.</font></pre>"
     ]
    },
    {
     "cell_type": "code",
     "collapsed": false,
     "input": [
      "b = \"Hello Python World\"\n",
      "b = b[13:] + \" \" + b[6:12] + \" \" + b[0:5]\n",
      "print b"
     ],
     "language": "python",
     "metadata": {},
     "outputs": [
      {
       "output_type": "stream",
       "stream": "stdout",
       "text": [
        "World Python Hello\n"
       ]
      }
     ],
     "prompt_number": 9
    },
    {
     "cell_type": "markdown",
     "metadata": {},
     "source": [
      "<pre><font size = 4pt>\n",
      "\uc81c\ub300\ub85c b\ubcc0\uc218\uc5d0 \"World Python Hello\"\ub77c\ub294 \ubb38\uc790\uc5f4\uc774 \uc800\uc7a5\ub418\uc5b4 \ucd9c\ub825\uc774 \ub418\ub294 \uac83\uc744 \ubcf4\uc2e4 \uc218 \uc788\uc2b5\ub2c8\ub2e4.\n",
      "\n",
      "\n",
      "\n",
      "\uc138 \ubc88\uc9f8 \ubb38\uc81c\uc785\ub2c8\ub2e4. c\ub77c\ub294 \ubcc0\uc218\uc5d0 \uba3c\uc800 \"Hello\"\ub77c\ub294 \ubb38\uc790\uc5f4\uc744 \uc800\uc7a5\ud558\uace0 \uc774 \ubb38\uc790\uc5f4\uc744 \uac70\uafb8\ub85c \ucd9c\ub825\ud558\uba74 \ub418\ub294 \ubb38\uc81c\uc785\ub2c8\ub2e4.</font></pre>"
     ]
    },
    {
     "cell_type": "code",
     "collapsed": false,
     "input": [
      "c = \"Hello\"\n",
      "c = c[::-1]\n",
      "print c"
     ],
     "language": "python",
     "metadata": {},
     "outputs": [
      {
       "output_type": "stream",
       "stream": "stdout",
       "text": [
        "olleH\n"
       ]
      }
     ],
     "prompt_number": 7
    },
    {
     "cell_type": "markdown",
     "metadata": {},
     "source": [
      "<pre><font size = 4pt>\n",
      "\uc81c\ub300\ub85c c\ubcc0\uc218\uc5d0 \"Hello\" \ubb38\uc790\uc5f4 \uc21c\uc11c\uc758 \ubc18\ub300\uc778 \"olleH\"\ub77c\ub294 \ubb38\uc790\uc5f4\uc774 \uc800\uc7a5\ub418\uc5b4 \ucd9c\ub825\uc774 \ub418\ub294 \uac83\uc744 \ubcf4\uc2e4 \uc218 \uc788\uc2b5\ub2c8\ub2e4.\n",
      "\n",
      "\n",
      "\n",
      "\ub124 \ubc88\uc9f8 \ubb38\uc81c\uc785\ub2c8\ub2e4.\n",
      "\ub124\ubc88\uc9f8 \ubb38\uc81c\ub294 \ubcc0\uc218 s\uc5d0 \"python\" \uc774\ub77c\ub294 \ubb38\uc790\uc5f4\uc744 \uc800\uc7a5\ud558\uace0 \uac01\uac01\uc758 \uc0c1\ud669\uc5d0 \ub300\ud55c \uacb0\uacfc\ub97c \ud655\uc778\ud558\uace0 \uc65c \uadf8\ub7ec\ud55c \uacb0\uacfc\uac00 \ub098\uc624\ub294\uc9c0\uc5d0 \ub300\ud574 \uc124\uba85\ud558\ub294 \ubc29\uc2dd\uc785\ub2c8\ub2e4.\n",
      "\n",
      "\uba3c\uc800 \ub124 \ubc88\uc9f8 \ubb38\uc81c \uc911 \uccab \ubc88\uc9f8 \ubb38\uc81c\uc785\ub2c8\ub2e4.\n",
      "s[0], s[0][0], s[0][0][0]\uc744 \uac01\uac01 \ucd9c\ub825\ud55c \ub4a4, \uacb0\uacfc\uac12\uc744 \ud655\uc778\ud558\uace0 \uadf8 \uc774\uc720\ub97c \uc124\uba85\ud558\ub294 \ubb38\uc81c\uc785\ub2c8\ub2e4.</font></pre>"
     ]
    },
    {
     "cell_type": "code",
     "collapsed": false,
     "input": [
      "s = \"python\"\n",
      "print s[0]\n",
      "print s[0][0]\n",
      "print s[0][0][0]"
     ],
     "language": "python",
     "metadata": {},
     "outputs": [
      {
       "output_type": "stream",
       "stream": "stdout",
       "text": [
        "p\n",
        "p\n",
        "p\n"
       ]
      }
     ],
     "prompt_number": 21
    },
    {
     "cell_type": "markdown",
     "metadata": {},
     "source": [
      "<pre><font size = 4pt>\n",
      "\uc6b0\uc120 \uacb0\uacfc\uac12\uc740 \ubaa8\ub450  'p' \uac00 \ucd9c\ub825\uc774 \ub418\uc5c8\uc2b5\ub2c8\ub2e4. \uadf8 \uc774\uc720\ub97c \uc124\uba85\ub4dc\ub9ac\uaca0\uc2b5\ub2c8\ub2e4.\n",
      "\ud604\uc7ac s\ubcc0\uc218\ub294 \ubb38\uc790\uc5f4\uc774 \uc800\uc7a5\ub41c \ud558\ub098\uc758 \uac1d\uccb4\ub97c \uac00\ub9ac\ud0a4\uace0 \uc788\uc2b5\ub2c8\ub2e4. \uadf8\ub9ac\uace0 \ubb38\uc790\uc5f4\uc774 \uc800\uc7a5\ub41c \ud558\ub098\uc758 \uac1d\uccb4\ub294 \ub9ac\uc2a4\ud2b8\uc758 \ud615\ud0dc\ub97c \ucde8\ud558\uace0 \uc788\uc2b5\ub2c8\ub2e4.\n",
      "\n",
      "<center><font color = purple><b>s -----------> ['p', 'y', 't', 'h', 'o', 'n']</b></font></center>\n",
      "\n",
      "\uc774 \uc0c1\ud0dc\uc5d0\uc11c \uccab \ubc88\uc9f8 s[0]\uc744 \ucd9c\ub825\ud558\uac8c \ud558\uba74 s\ub77c\ub294 \ubcc0\uc218 \ub0b4\uc758 \ub9ac\uc2a4\ud2b8\uc5d0\uc11c 0\ubc88\uc9f8 \uac12\uc744 \ucd9c\ub825\ud558\ub77c\ub294 \uac83\uacfc \uac19\uc740 \ub73b\uc774 \ub429\ub2c8\ub2e4. \uc5ec\uae30\uc11c 0\ubc88\uc9f8 \uac12\uc740 'p' \uc785\ub2c8\ub2e4.\n",
      "\n",
      "\ub450 \ubc88\uc9f8\ub85c s[0][0]\uc774 \ub73b\ud558\ub294 \uac83\uc740 \ub9ac\uc2a4\ud2b8 \ub0b4\uc758 \ub9ac\uc2a4\ud2b8\ub85c \uc811\uadfc\uc744 \ud558\uc5ec s\uac00 \uac00\ub9ac\ud0a4\uace0 \uc788\ub294 \ubb38\uc790\uc5f4 \ub9ac\uc2a4\ud2b8\uc758 0\ubc88\uc9f8\uc5d0 \uc788\ub294 \ub9ac\uc2a4\ud2b8\ub85c \uc811\uadfc\ud558\uc5ec 0\ubc88\uc9f8\uc758 \uac12\uc744\n",
      "\ucd9c\ub825\uc744 \ud558\ub77c\ub294 \ub73b\uc774 \ub429\ub2c8\ub2e4. \uc5ec\uae30\uc11c s[0]\ubc88\uc9f8\ub294 \ud604\uc7ac \ub9ac\uc2a4\ud2b8\uac00 \uc544\ub2c8\ub77c \ud558\ub098\uc758 \uac12\uc774 \ub4e4\uc5b4\uac00 \uc788\uc2b5\ub2c8\ub2e4.\n",
      "\uadf8\ub7ec\ubbc0\ub85c s[0][0]\uc744 \ud558\uac8c \ub418\uba74 s[0]\ubc88\uc9f8\ub85c \ub4e4\uc5b4\uac00\uc11c \uadf8 \uacf3\uc5d0 \uc788\ub294 \uac12\uc744 \ub9ac\uc2a4\ud2b8\ub85c \ub2e4\uc2dc \uc778\uc2dd\uc744 \ud558\uace0 \ub4e4\uc5b4\uac00\uc11c 0\ubc88\uc9f8\uc5d0 \uc788\ub294 \uac12\uc744 \ub098\ud0c0\ub0b4\uac8c \ub429\ub2c8\ub2e4.\n",
      "\ub530\ub77c\uc11c 'p' \uac00 \ucd9c\ub825\uc774 \ub418\uac8c \ub429\ub2c8\ub2e4.\n",
      "\n",
      "\uc138 \ubc88\uc9f8\uc778 s[0][0][0]\ub3c4 \ub450 \ubc88\uc9f8 \uacbd\uc6b0\uc640 \ub9c8\ucc2c\uac00\uc9c0\uc778 \uc0c1\ud669\uc785\ub2c8\ub2e4.\n",
      "\n",
      "\ub530\ub77c\uc11c \uc138 \uac00\uc9c0 \uacbd\uc6b0 \ubaa8\ub450 'p' \ub97c \ucd9c\ub825\ud558\uac8c \ub418\ub294 \uac83\uc785\ub2c8\ub2e4.\n",
      "\n",
      "\n",
      "\n",
      "\ub2e4\uc74c\uc740 \ub124 \ubc88\uc9f8 \ubb38\uc81c \uc911 \ub450 \ubc88\uc9f8 \ubb38\uc81c\uc785\ub2c8\ub2e4.\n",
      "s[-100], s[100]\uc744 \uac01\uac01 \ucd9c\ub825\ud558\uac8c \ub418\uba74 \uac12\uc774 \ub098\uc624\ub294\uc9c0 \uc544\ub2c8\uba74 \uc5d0\ub7ec\uac00 \ub098\uc624\ub294\uc9c0 \ud655\uc778\ud558\uace0 \uadf8 \uc774\uc720\ub97c \uc124\uba85\ud558\ub294 \ubb38\uc81c\uc785\ub2c8\ub2e4.\n",
      "</font></pre>"
     ]
    },
    {
     "cell_type": "code",
     "collapsed": false,
     "input": [
      "s = \"python\"\n",
      "print s[100]"
     ],
     "language": "python",
     "metadata": {},
     "outputs": [
      {
       "ename": "IndexError",
       "evalue": "string index out of range",
       "output_type": "pyerr",
       "traceback": [
        "\u001b[0;31m---------------------------------------------------------------------------\u001b[0m\n\u001b[0;31mIndexError\u001b[0m                                Traceback (most recent call last)",
        "\u001b[0;32m<ipython-input-11-697ce2b28889>\u001b[0m in \u001b[0;36m<module>\u001b[0;34m()\u001b[0m\n\u001b[1;32m      1\u001b[0m \u001b[0ms\u001b[0m \u001b[0;34m=\u001b[0m \u001b[0;34m\"python\"\u001b[0m\u001b[0;34m\u001b[0m\u001b[0m\n\u001b[0;32m----> 2\u001b[0;31m \u001b[0;32mprint\u001b[0m \u001b[0ms\u001b[0m\u001b[0;34m[\u001b[0m\u001b[0;36m100\u001b[0m\u001b[0;34m]\u001b[0m\u001b[0;34m\u001b[0m\u001b[0m\n\u001b[0m\u001b[1;32m      3\u001b[0m \u001b[0;32mprint\u001b[0m \u001b[0ms\u001b[0m\u001b[0;34m[\u001b[0m\u001b[0;34m-\u001b[0m\u001b[0;36m100\u001b[0m\u001b[0;34m]\u001b[0m\u001b[0;34m\u001b[0m\u001b[0m\n",
        "\u001b[0;31mIndexError\u001b[0m: string index out of range"
       ]
      }
     ],
     "prompt_number": 11
    },
    {
     "cell_type": "code",
     "collapsed": false,
     "input": [
      "s = \"python\"\n",
      "print s[-100]"
     ],
     "language": "python",
     "metadata": {},
     "outputs": [
      {
       "ename": "IndexError",
       "evalue": "string index out of range",
       "output_type": "pyerr",
       "traceback": [
        "\u001b[0;31m---------------------------------------------------------------------------\u001b[0m\n\u001b[0;31mIndexError\u001b[0m                                Traceback (most recent call last)",
        "\u001b[0;32m<ipython-input-12-4ec062a644bf>\u001b[0m in \u001b[0;36m<module>\u001b[0;34m()\u001b[0m\n\u001b[1;32m      1\u001b[0m \u001b[0ms\u001b[0m \u001b[0;34m=\u001b[0m \u001b[0;34m\"python\"\u001b[0m\u001b[0;34m\u001b[0m\u001b[0m\n\u001b[0;32m----> 2\u001b[0;31m \u001b[0;32mprint\u001b[0m \u001b[0ms\u001b[0m\u001b[0;34m[\u001b[0m\u001b[0;34m-\u001b[0m\u001b[0;36m100\u001b[0m\u001b[0;34m]\u001b[0m\u001b[0;34m\u001b[0m\u001b[0m\n\u001b[0m",
        "\u001b[0;31mIndexError\u001b[0m: string index out of range"
       ]
      }
     ],
     "prompt_number": 12
    },
    {
     "cell_type": "markdown",
     "metadata": {},
     "source": [
      "<pre><font size = 4pt>\n",
      "\uc6b0\uc120 \uacb0\uacfc\ub294 \ubaa8\ub450 \uc5d0\ub7ec\ub85c \ud655\uc778\uc774 \ub418\uc5c8\uc2b5\ub2c8\ub2e4. \uadf8 \uc774\uc720\ub97c \uc124\uba85\ub4dc\ub9ac\uaca0\uc2b5\ub2c8\ub2e4.\n",
      "\ud604\uc7ac s\ub77c\ub294 \ubcc0\uc218\ub294 \ubb38\uc790\uc5f4 \"python\"\uc744 \uac00\uc9c0\uace0 \uc788\uc2b5\ub2c8\ub2e4. \uc774 \ubb38\uc790\uc5f4\uc740 \ud558\ub098\uc758 \uac1d\uccb4\ub85c\uc11c \ub9ac\uc2a4\ud2b8 \ud615\ud0dc\ub97c \ucde8\ud558\uace0 \uc788\uc73c\uba70 \ud604\uc7ac \ud06c\uae30\ub294 6 \uc785\ub2c8\ub2e4.\n",
      "\ub530\ub77c\uc11c \ubb38\uc790\uc5f4\uc758 \ubc29 \uc704\uce58\ub97c \ub098\ud0c0\ub0b4\uba74 \ub2e4\uc74c\uacfc \uac19\uc2b5\ub2c8\ub2e4.\n",
      "\n",
      "<font color = blue>\n",
      "               \ubb38\uc790\uc5f4 \ub9ac\uc2a4\ud2b8 -> ['p', 'y', 't', 'h', 'o', 'n']</font><font color = green>\n",
      "                        \uc591\uc218   0     1    2    3    4    5\n",
      "                        \uc74c\uc218  -6    -5   -4   -3   -2   -1</font>\n",
      "\n",
      "\uc704\uc640 \uac19\uc774 \ud45c\ud604\uc774 \ub429\ub2c8\ub2e4. \ub530\ub77c\uc11c -100 \ud639\uc740 100\uc740 \ud604\uc7ac \ubb38\uc790\uc5f4 \ub9ac\uc2a4\ud2b8\ub85c \ud45c\ud604\ud560 \uc218 \uc5c6\ub294 \ubc94\uc704\uc774\ubbc0\ub85c \uc5d0\ub7ec\uac00 \ucd9c\ub825\uc774 \ub429\ub2c8\ub2e4.\n",
      "\n",
      "\n",
      "\n",
      "\ub2e4\uc74c\uc740 \ub124 \ubc88\uc9f8 \ubb38\uc81c \uc911 \uc138 \ubc88\uc9f8 \ubb38\uc81c\uc785\ub2c8\ub2e4.\n",
      "s[-100, 100]\uc740 \uac12\uc774 \ub098\uc624\ub294\uc9c0 \uc5d0\ub7ec\uac00 \ub098\uc624\ub294\uc9c0\ub97c \ud655\uc778\ud558\uace0 \uadf8 \uc774\uc720\ub97c \uc124\uba85\ud558\ub294 \ubb38\uc81c\uc785\ub2c8\ub2e4.</font></pre>"
     ]
    },
    {
     "cell_type": "code",
     "collapsed": false,
     "input": [
      "s = \"python\"\n",
      "print s[-100, 100]"
     ],
     "language": "python",
     "metadata": {},
     "outputs": [
      {
       "ename": "TypeError",
       "evalue": "string indices must be integers, not tuple",
       "output_type": "pyerr",
       "traceback": [
        "\u001b[0;31m---------------------------------------------------------------------------\u001b[0m\n\u001b[0;31mTypeError\u001b[0m                                 Traceback (most recent call last)",
        "\u001b[0;32m<ipython-input-13-20041a732f7c>\u001b[0m in \u001b[0;36m<module>\u001b[0;34m()\u001b[0m\n\u001b[1;32m      1\u001b[0m \u001b[0ms\u001b[0m \u001b[0;34m=\u001b[0m \u001b[0;34m\"python\"\u001b[0m\u001b[0;34m\u001b[0m\u001b[0m\n\u001b[0;32m----> 2\u001b[0;31m \u001b[0;32mprint\u001b[0m \u001b[0ms\u001b[0m\u001b[0;34m[\u001b[0m\u001b[0;34m-\u001b[0m\u001b[0;36m100\u001b[0m\u001b[0;34m,\u001b[0m \u001b[0;36m100\u001b[0m\u001b[0;34m]\u001b[0m\u001b[0;34m\u001b[0m\u001b[0m\n\u001b[0m",
        "\u001b[0;31mTypeError\u001b[0m: string indices must be integers, not tuple"
       ]
      }
     ],
     "prompt_number": 13
    },
    {
     "cell_type": "markdown",
     "metadata": {},
     "source": [
      "<pre><font size = 4pt>\n",
      "\uacb0\uacfc\ub294 \uc5d0\ub7ec\ub85c \ud655\uc778\uc774 \ub418\uc5c8\uc2b5\ub2c8\ub2e4. \uadf8 \uc774\uc720\ub97c \uc124\uba85\ub4dc\ub9ac\uaca0\uc2b5\ub2c8\ub2e4.\n",
      "\ud30c\uc774\uc36c\uc5d0\uc11c <font color = \"blue\">[\uc5b4\ub5a0\ud55c \uac12, \uc5b4\ub5a0\ud55c \uac12]</font> \uc774\ub7ec\ud55c \ud615\ud0dc\ub85c \ud45c\ud604\uc774 \uac00\ub2a5\ud55c \uc790\ub8cc\ud615\uc740 <font color = red><b>'\ud29c\ud50c'</b></font>\uc785\ub2c8\ub2e4.\n",
      "\ud604\uc7ac \ubb38\uc790\uc5f4\uc774 \uc800\uc7a5\ub418\uc5b4 \uc788\ub294 \uac1d\uccb4\ub294 \ud29c\ud50c\uc774 \uc544\ub2c8\ub77c \ub9ac\uc2a4\ud2b8 \uc774\ubbc0\ub85c s[-100, 100]\uc740 \uc798\ubabb\ub41c \ud45c\ud604\uc785\ub2c8\ub2e4.\n",
      "\n",
      "\n",
      "\n",
      "\ub2e4\uc74c\uc740 \ub124 \ubc88\uc9f8 \ubb38\uc81c \uc911 \ub124 \ubc88\uc9f8 \ubb38\uc81c\uc785\ub2c8\ub2e4.\n",
      "s[1:-1]\uc758 \uacb0\uacfc\ub97c \ud655\uc778\ud558\uace0 \uadf8 \uacb0\uacfc\uc5d0 \ub300\ud55c \uc774\uc720\ub97c \uc124\uba85\ud558\ub294 \ubb38\uc81c\uc785\ub2c8\ub2e4.</font></pre>"
     ]
    },
    {
     "cell_type": "code",
     "collapsed": false,
     "input": [
      "s = \"python\"\n",
      "print s[1:-1]"
     ],
     "language": "python",
     "metadata": {},
     "outputs": [
      {
       "output_type": "stream",
       "stream": "stdout",
       "text": [
        "ytho\n",
        "\n"
       ]
      }
     ],
     "prompt_number": 17
    },
    {
     "cell_type": "markdown",
     "metadata": {},
     "source": [
      "<pre><font size = 4pt>\n",
      "\uacb0\uacfc\ub294 \"ytho\" \ub77c\ub294 \ubb38\uc790\uc5f4\uc774 slicing\ub418\uc5b4 \ub098\ud0c0\ub0ac\uc2b5\ub2c8\ub2e4. \uadf8 \uc774\uc720\ub97c \uc124\uba85\ub4dc\ub9ac\uaca0\uc2b5\ub2c8\ub2e4.\n",
      "\ub124 \ubc88\uc9f8 \ubb38\uc81c \uc911 \ub450 \ubc88\uc9f8 \ubb38\uc81c\ub97c \ud480\uc5c8\uc744 \ub54c \ub2e4\uc74c\uacfc \uac19\uc740 \ubb38\uc790\uc5f4 \ub9ac\uc2a4\ud2b8\uc758 \ubc29 \uc704\uce58\ub97c \uc124\uba85\ub4dc\ub9b0 \uac83\uc774 \uc788\uc2b5\ub2c8\ub2e4.\n",
      "\n",
      "<font color = blue>\n",
      "               \ubb38\uc790\uc5f4 \ub9ac\uc2a4\ud2b8 -> ['p', 'y', 't', 'h', 'o', 'n']</font><font color = green>\n",
      "                        \uc591\uc218   0     1    2    3    4    5\n",
      "                        \uc74c\uc218  -6    -5   -4   -3   -2   -1</font>\n",
      "\n",
      "\uc5ec\uae30\uc11c 1\ubc88\uc11c\ubd80\ud130 -1\uae4c\uc9c0 \ud45c\ud604\ud558\uac8c \ub418\uba74 \uc815\ud655\ud558\uac8c slicing\uc774 \ub418\ub294 \uac83\uc744 \ud655\uc778\ud558\uc2e4 \uc218 \uc788\uc2b5\ub2c8\ub2e4.\n",
      "\uacb0\uad6d 0\ubc88 \uc704\uce58 \uc11c\ubd80\ud130 5\ubc88 \uc704\uce58 \ubc29\ud5a5\uc73c\ub85c\ub9cc \uc815\ud655\ud558\uac8c slicing\ud558\ub77c\ub294 \uba85\ub839\uc744 \ud558\uba74 \uc5d0\ub7ec\uac00 \ub098\uc9c0 \uc54a\uace0 slicing\uc774 \ub429\ub2c8\ub2e4.\n",
      "\uadf8\ub7ec\ub098 \uc774 \ubc29\ud5a5\uc744 \uac70\uafb8\ub85c(\uc608\ub97c \ub4e4\uc5b4\uc11c s[2:-6])\ud558\uac8c \ub418\uba74 \uc544\ubb34\ub7f0 \uac12\ub3c4 \ucd9c\ub825\uc774 \ub418\uc9c0 \uc54a\uac8c \ub429\ub2c8\ub2e4.\n",
      "\n",
      "\n",
      "\n",
      "\ub2e4\uc74c\uc740 \ub124 \ubc88\uc9f8 \ubb38\uc81c \uc911 \ub2e4\uc12f \ubc88\uc9f8 \ubb38\uc81c\uc785\ub2c8\ub2e4.\n",
      "s[3:-3]\uc758 \uacb0\uacfc\ub97c \ud655\uc778\ud558\uace0 \uadf8 \uacb0\uacfc\uc5d0 \ub300\ud55c \uc774\uc720\ub97c \uc124\uba85\ud558\ub294 \ubb38\uc81c\uc785\ub2c8\ub2e4.</font></pre>"
     ]
    },
    {
     "cell_type": "code",
     "collapsed": false,
     "input": [
      "s = \"python\"\n",
      "s[3:-3]"
     ],
     "language": "python",
     "metadata": {},
     "outputs": [
      {
       "metadata": {},
       "output_type": "pyout",
       "prompt_number": 19,
       "text": [
        "''"
       ]
      }
     ],
     "prompt_number": 19
    },
    {
     "cell_type": "markdown",
     "metadata": {},
     "source": [
      "<pre><font size = 4pt>\n",
      "\uacb0\uacfc\ub294 \uacf5\ubc31\uc774 \ucd9c\ub825\uc774 \ub418\uc5c8\uc2b5\ub2c8\ub2e4. \uadf8 \uc774\uc720\ub97c \uc124\uba85\ub4dc\ub9ac\uaca0\uc2b5\ub2c8\ub2e4.\n",
      "\ub2e4\uc2dc \ud55c \ubc88 \ubb38\uc790\uc5f4 \ub9ac\uc2a4\ud2b8\uc758 \ubc29 \uc704\uce58\ub97c \ubcf4\uc5ec\ub4dc\ub9ac\uaca0\uc2b5\ub2c8\ub2e4.\n",
      "\n",
      "<font color = blue>\n",
      "               \ubb38\uc790\uc5f4 \ub9ac\uc2a4\ud2b8 -> ['p', 'y', 't', 'h', 'o', 'n']</font><font color = green>\n",
      "                        \uc591\uc218   0     1    2    3    4    5\n",
      "                        \uc74c\uc218  -6    -5   -4   -3   -2   -1</font>\n",
      "                        \n",
      "\uc5ec\uae30\uc11c s[3:-3]\uc740 \uac19\uc740 \ubc29\uc744 slicing\ud558\ub77c\ub294 \ub73b\uc774 \ub418\ubbc0\ub85c \uacb0\uad6d \uc544\ubb34 \uac83\ub3c4 \uc790\ub97c \uac83\uc774 \uc5c6\uac8c \ub418\uc5b4 \uacf5\ubc31\uc774 \ucd9c\ub825\uc774 \ub418\ub294 \uac83\uc785\ub2c8\ub2e4.\n",
      "\n",
      "\n",
      "\n",
      "\ub2e4\uc12f \ubc88\uc9f8 \ubb38\uc81c\uc785\ub2c8\ub2e4. for\ubb38\uc744 \uc774\uc6a9\ud558\uc5ec 1\ubd80\ud130 100\uc0ac\uc774\uc758 \ud640\uc218\ub97c \ucd9c\ub825\ud558\ub294 \ud504\ub85c\uadf8\ub7a8\uc744 \uc791\uc131\ud558\ub294 \uac83\uc785\ub2c8\ub2e4.</font></pre>"
     ]
    },
    {
     "cell_type": "code",
     "collapsed": false,
     "input": [
      "for n in range(1, 101) :   # 1\ubd80\ud130 100\uae4c\uc9c0 \ubc18\ubcf5\ud55c\ub2e4.\n",
      "    if n % 2 != 0 :        # n\uc774 \uc9dd\uc218\uac00 \uc544\ub2c8\uba74(\ud640\uc218\uc774\uba74)...\n",
      "        print n            # n\uc744 \ucd9c\ub825\ud55c\ub2e4."
     ],
     "language": "python",
     "metadata": {},
     "outputs": [
      {
       "output_type": "stream",
       "stream": "stdout",
       "text": [
        "1\n",
        "3\n",
        "5\n",
        "7\n",
        "9\n",
        "11\n",
        "13\n",
        "15\n",
        "17\n",
        "19\n",
        "21\n",
        "23\n",
        "25\n",
        "27\n",
        "29\n",
        "31\n",
        "33\n",
        "35\n",
        "37\n",
        "39\n",
        "41\n",
        "43\n",
        "45\n",
        "47\n",
        "49\n",
        "51\n",
        "53\n",
        "55\n",
        "57\n",
        "59\n",
        "61\n",
        "63\n",
        "65\n",
        "67\n",
        "69\n",
        "71\n",
        "73\n",
        "75\n",
        "77\n",
        "79\n",
        "81\n",
        "83\n",
        "85\n",
        "87\n",
        "89\n",
        "91\n",
        "93\n",
        "95\n",
        "97\n",
        "99\n"
       ]
      }
     ],
     "prompt_number": 31
    },
    {
     "cell_type": "markdown",
     "metadata": {},
     "source": [
      "<pre><font size = 4pt>\n",
      "\ud640\uc218\ub9cc \ucd9c\ub825\uc774 \ub418\ub294 \uac83\uc744 \ud655\uc778\ud560 \uc218 \uc788\uc2b5\ub2c8\ub2e4.\n",
      "\n",
      "\n",
      "\n",
      "\uc5ec\uc12f \ubc88\uc9f8 \ubb38\uc81c\uc785\ub2c8\ub2e4. while\ubb38\uc744 \uc774\uc6a9\ud558\uc5ec 1\ubd80\ud130 100\uc0ac\uc774\uc758 \uc9dd\uc218\uc758 \ud569\uc744 \uad6c\ud558\ub294 \ud504\ub85c\uadf8\ub7a8\uc744 \uc791\uc131\ud558\ub294 \ubb38\uc81c\uc785\ub2c8\ub2e4.</font></pre>"
     ]
    },
    {
     "cell_type": "code",
     "collapsed": false,
     "input": [
      "sum = 0               # \ud569\uc744 \uad6c\ud558\ub294 \ubcc0\uc218.\n",
      "n = 1                 # 1\ubd80\ud130 100\uae4c\uc9c0 \uc99d\uac00\ud558\ub294 \ubcc0\uc218.\n",
      "while n < 100 :       # \uac80\uc0ac\ub97c \ud588\uc744 \ub54c, n\uc774 101\ubcf4\ub2e4 \uc791\uc73c\uba74 \uacc4\uc18d \uc9dd\uc218\ub97c \ucc3e\uc544\uc11c \ub367\uc148\uc744 \ud558\uace0, n\uc774 100\uc774 \ub418\ub294 \uc21c\uac04 \ubc18\ubcf5\uc774 \ub05d\ub098\uac8c \ub41c\ub2e4.\n",
      "    if n%2 == 0 :     # n\uc774 \uc9dd\uc218\uc774\uba74...\n",
      "        sum += n;     # \uc804\uccb4 \ud569\uc5d0 n\uc744 \ub354\ud55c\ub2e4.\n",
      "    n += 1            # n\uc744 1 \uc99d\uac00 \uc2dc\ud0a8\ub2e4.\n",
      "    \n",
      "print sum             # \ucd5c\uc885 \ud569\uc744 \ucd9c\ub825\ud55c\ub2e4."
     ],
     "language": "python",
     "metadata": {},
     "outputs": [
      {
       "output_type": "stream",
       "stream": "stdout",
       "text": [
        "2450\n"
       ]
      }
     ],
     "prompt_number": 30
    },
    {
     "cell_type": "markdown",
     "metadata": {},
     "source": [
      "<pre><font size = 4pt>\n",
      "1\ubd80\ud130 100\uc0ac\uc774\uc758 \uc9dd\uc218\uc758 \ud569\uc778 2450\uc774 \uc815\ud655\ud558\uac8c \ucd9c\ub825\uc774 \ub418\ub294 \uac83\uc744 \ud655\uc778\ud560 \uc218 \uc788\uc2b5\ub2c8\ub2e4.\n",
      "\n",
      "\n",
      "\n",
      "\ub9c8\uc9c0\ub9c9 \uc77c\uacf1 \ubc88\uc9f8 \ubb38\uc81c\uc785\ub2c8\ub2e4. \uc678\ubd80\ub85c\ubd80\ud130 \uc815\uc218\ub97c \uc785\ub825\ubc1b\uc544\uc11c 1\ubd80\ud130 \uc785\ub825\ubc1b\uc740 \uc815\uc218 \uc0ac\uc774\uc758 \uc18c\uc218(prime number)\ub97c \ucd9c\ub825\ud558\ub294 \ud504\ub85c\uadf8\ub7a8\uc744 \uc791\uc131\ud558\ub294 \ubb38\uc81c\uc785\ub2c8\ub2e4.</font></pre>"
     ]
    },
    {
     "cell_type": "code",
     "collapsed": false,
     "input": [
      "n = input('Input Number : ')      # \uc815\uc218\ub97c \uc785\ub825\ubc1b\ub294\ub2e4.\n",
      "\n",
      "for i in range(2, n) :            # 1\uc740 \uc5b4\ucc28\ud53c \uc18c\uc218\uc5d0\uc11c \uc81c\uc678\ub418\ubbc0\ub85c 2\ubd80\ud130 \ucc3e\uae30 \uc2dc\uc791\ud55c\ub2e4.\n",
      "    cnt = 0                       # \ub098\ub204\uc5b4\uc9c0\ub294 \ud69f\uc218\ub97c \uad6c\ud558\ub294 \ubcc0\uc218\uc774\ub2e4.\n",
      "    for j in range(1, i) :        # 1\ubd80\ud130 \ud604\uc7ac \uc218\ubcf4\ub2e4 \uc791\uc740 \uc218\ub4e4 \uc0ac\uc774\uae4c\uc9c0 \ubc18\ubcf5\ud55c\ub2e4.\n",
      "        if i % j == 0 :           # 1\ubd80\ud130 \ud604\uc7ac \uc218\ubcf4\ub2e4 \uc791\uc740 \uc218\ub4e4\uc744 \ub098\ub204\uc5b4\ubcf8\ub2e4.\n",
      "            cnt += 1              # \ub098\ub204\uc5b4\uc9c0\ub294 \ud69f\uc218\ub97c \uc99d\uac00 \uc2dc\ud0a8\ub2e4.\n",
      "        \n",
      "    if cnt == 1 :                 # \ub098\ub204\uc5b4\uc9c0\ub294 \ud69f\uc218\ub294 \ud55c \ubc88 \uc774\uc5b4\uc57c \ud55c\ub2e4. \uc18c\uc218\ub294 1\uacfc \uc790\uae30 \uc790\uc2e0\uc73c\ub85c\ub9cc \ub098\ub204\uc5b4\uc9c0\uae30 \ub54c\ubb38\uc774\ub2e4.\n",
      "        print i                   # \uc18c\uc218\ub97c \ucd9c\ub825\ud55c\ub2e4."
     ],
     "language": "python",
     "metadata": {},
     "outputs": [
      {
       "name": "stdout",
       "output_type": "stream",
       "stream": "stdout",
       "text": [
        "Input Number : 100\n"
       ]
      },
      {
       "output_type": "stream",
       "stream": "stdout",
       "text": [
        "2\n",
        "3\n",
        "5\n",
        "7\n",
        "11\n",
        "13\n",
        "17\n",
        "19\n",
        "23\n",
        "29\n",
        "31\n",
        "37\n",
        "41\n",
        "43\n",
        "47\n",
        "53\n",
        "59\n",
        "61\n",
        "67\n",
        "71\n",
        "73\n",
        "79\n",
        "83\n",
        "89\n",
        "97\n"
       ]
      }
     ],
     "prompt_number": 35
    },
    {
     "cell_type": "markdown",
     "metadata": {},
     "source": [
      "<pre><font size = 4pt>\n",
      "\uc785\ub825\uac12\uc740 100\uc73c\ub85c \ud558\uc600\uc2b5\ub2c8\ub2e4. \uacb0\uacfc\ub97c \ubcf4\uba74 1\ubd80\ud130 100\uc0ac\uc774\uc758 \uc18c\uc218\uac00 \uc815\ud655\ud558\uac8c \ucd9c\ub825\uc774 \ub418\ub294 \uac83\uc744 \ud655\uc778\ud560 \uc218 \uc788\uc2b5\ub2c8\ub2e4.</font></pre>"
     ]
    },
    {
     "cell_type": "markdown",
     "metadata": {},
     "source": [
      "<br><br>"
     ]
    },
    {
     "cell_type": "markdown",
     "metadata": {},
     "source": [
      "<font size = 4pt><b>3. \uc18c\uac10</b></font>"
     ]
    },
    {
     "cell_type": "markdown",
     "metadata": {},
     "source": [
      "<pre><font size = 4pt>\n",
      "\uc800\ub294 \uc774\uc804\uc5d0 \uba87 \ubc88 \ud30c\uc774\uc36c \ud504\ub85c\uadf8\ub798\ubc0d\uc744 \ud574 \ubcf8 \uacbd\ud5d8\uc774 \uc788\uc5b4 \uc774\ubc88 \ud559\uae30 \ud30c\uc774\uc36c \ud504\ub85c\uadf8\ub798\ubc0d \uac15\uc758\ub294 \uc800\uc5d0\uac8c \uc544\uc8fc \uae30\ub300\ub418\uace0 \uc7ac\ubbf8\uc788\ub294 \uac15\uc758\uc785\ub2c8\ub2e4.\n",
      "\uadf8\ub9ac\uace0 \uc774\ubc88 \uacfc\uc81c\ub97c \ud1b5\ud574 \ub2e4\uc2dc \ud55c \ubc88 \ud30c\uc774\uc36c\uc758 \uae30\ucd08\ub97c \ud655\uc2e4\ud788 \ub2e4\uc9c8 \uc218 \uc788\ub294 \uacc4\uae30\uac00 \ub418\uc5c8\uc2b5\ub2c8\ub2e4.</font></pre>"
     ]
    }
   ],
   "metadata": {}
  }
 ]
}