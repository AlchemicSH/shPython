{
 "metadata": {
  "name": "",
  "signature": "sha256:ed733f2bf9f4ac1cddee14fc71a569da299e3e29748bb13d86096424c125660e"
 },
 "nbformat": 3,
 "nbformat_minor": 0,
 "worksheets": [
  {
   "cells": [
    {
     "cell_type": "markdown",
     "metadata": {},
     "source": [
      "<center><font size = 7pt><b>\ud30c\uc774\uc36c \ud504\ub85c\uadf8\ub798\ubc0d</b></font></center>"
     ]
    },
    {
     "cell_type": "markdown",
     "metadata": {},
     "source": [
      "<center><font size = 6pt><b>Report 02</b></font></center>"
     ]
    },
    {
     "cell_type": "markdown",
     "metadata": {},
     "source": [
      "<br>\n",
      "<font size = 5pt><b><div align = \"right\">\ud559\ubc88 : 2012136090</div>\n",
      "<br>\n",
      "<div align = \"right\">\uc774\ub984 : \uc774 \uc138 \ud55c</div></b></font>"
     ]
    },
    {
     "cell_type": "markdown",
     "metadata": {},
     "source": [
      "<br>"
     ]
    },
    {
     "cell_type": "markdown",
     "metadata": {},
     "source": [
      "<font size = 4pt><b>1. \uc11c\ub860</b></font>"
     ]
    },
    {
     "cell_type": "markdown",
     "metadata": {},
     "source": [
      "<font size = 3pt>\n",
      "\uc774\ubc88 \uacfc\uc81c\ub294 \ucd1d 6\ubb38\uc81c\uc758 \ud30c\uc774\uc36c \ud504\ub85c\uadf8\ub798\ubc0d\uc744 \uc218\ud589\ud558\uc5ec \uadf8 \uacb0\uacfc\ub97c \ub098\ud0c0\ub0b4\uace0 \uc65c \uc774\ub7ec\ud55c \uacb0\uacfc\uac00 \ub098\uc624\uac8c \ub418\uc5c8\ub294\uc9c0\uc5d0 \ub300\ud574 \uc124\uba85\uc744 \ud558\ub294 \uac83\uc785\ub2c8\ub2e4.\n",
      "</font>\n",
      "<br><br>"
     ]
    },
    {
     "cell_type": "markdown",
     "metadata": {},
     "source": [
      "<font size = 4pt><b>2. \ubcf8\ub860</b></font>"
     ]
    },
    {
     "cell_type": "markdown",
     "metadata": {},
     "source": [
      "<font size = 3pt>\n",
      "\ubb38\uc81c 1\ubc88\uc740 \ub2e4\uc74c\uacfc \uac19\uc2b5\ub2c8\ub2e4.\n",
      "<br>\n",
      "<ul>\n",
      "    <li>\ub2e4\uc74c 6\uac1c\uc758 Expression\uc5d0 \ub300\ud574 Evaluation \uacb0\uacfc \uac12\uc744 \ucd9c\ub825\ud558\uace0, \ud574\ub2f9 \uacb0\uacfc\uac00 \ub098\uc628 \uc774\uc720\uc5d0 \ub300\ud574 \uc124\uba85\ud558\uc2dc\uc624.</li>\n",
      "    <ul>\n",
      "        <li>1 and 2 and 3 and 4</li>\n",
      "        <li>1 or 2 or 3 or 4</li>\n",
      "        <li>1 and 2 or 3 and 4</li>\n",
      "        <li>(1 and 2) or (3 and 4)</li>\n",
      "        <li>1 or 2 and 3 or 4</li>\n",
      "        <li>(1 or 2) and (3 or 4)</li>\n",
      "    </ul>\n",
      "</ul>\n",
      "<br>\n",
      "\uc774 \ubb38\uc81c\ub294 \uac01\uac01\uc758 \uba85\ub839\uc5b4\ub97c \uc9c1\uc811 \uc785\ub825\ud558\uc5ec \uac01 \ucd9c\ub825\uac12\uc744 \ud655\uc778\ud558\uace0 \uc65c \uc774\ub7ec\ud55c \uacb0\uacfc\uac00 \ub098\uc624\ub294\uc9c0\uc5d0 \ub300\ud55c \uc774\uc720\ub97c \uc124\uba85\ud558\ub294 \ubb38\uc81c\uc785\ub2c8\ub2e4.\n",
      "<br>\n",
      "<br>\n",
      "\uba3c\uc800 \uccab \ubc88\uc9f8 Expression\uc744 \uc785\ub825\ud558\uba74 \ub2e4\uc74c\uacfc \uac19\uc740 \uacb0\uacfc\uac12\uc774 \ub098\ud0c0\ub0a9\ub2c8\ub2e4.</font>"
     ]
    },
    {
     "cell_type": "code",
     "collapsed": false,
     "input": [
      "1 and 2 and 3 and 4"
     ],
     "language": "python",
     "metadata": {},
     "outputs": [
      {
       "metadata": {},
       "output_type": "pyout",
       "prompt_number": 1,
       "text": [
        "4"
       ]
      }
     ],
     "prompt_number": 1
    },
    {
     "cell_type": "markdown",
     "metadata": {},
     "source": [
      "<font size = 3pt>\n",
      "\uacb0\uacfc\uac12\uc73c\ub85c '<font color = red>4</font>'\uac00 \ucd9c\ub825\ub418\uc5c8\uc2b5\ub2c8\ub2e4.\n",
      "<br>\n",
      "<br>\n",
      "\uadf8 \uc774\uc720\ub97c \uc124\uba85\ub4dc\ub9ac\uaca0\uc2b5\ub2c8\ub2e4.<br>\n",
      "\uba3c\uc800, \ub17c\ub9ac \uc5f0\uc0b0\uc790\uc778 and\ub294 \uc591\ucabd \ub2e4 \uac12\uc774 \ucc38\uc778\uc9c0\ub97c \ud310\ubcc4\ud558\ub294 \uc5f0\uc0b0\uc790\uc785\ub2c8\ub2e4. \ub530\ub77c\uc11c 1\ub3c4 \ucc38\uc774\uace0 2\ub3c4 \ucc38\uc774\uace0 3\ub3c4 \ucc38\uc774\uace0 4\ub3c4 \ucc38\uc774\ubbc0\ub85c \uac00\uc7a5 \ub9c8\uc9c0\ub9c9\uc73c\ub85c \uc5f0\uc0b0\uc774 \ub41c \uac12\uc778 4\uac00 \uacb0\uacfc\uac12\uc73c\ub85c \ucd9c\ub825\uc774 \ub418\ub294 \uac83\uc785\ub2c8\ub2e4.<br>\n",
      "<br>\n",
      "\ub450 \ubc88\uc9f8 Expression\uc744 \uc785\ub825\ud558\uba74 \ub2e4\uc74c\uacfc \uac19\uc740 \uacb0\uacfc\uac12\uc774 \ub098\ud0c0\ub0a9\ub2c8\ub2e4.</font>"
     ]
    },
    {
     "cell_type": "code",
     "collapsed": false,
     "input": [
      "1 or 2 or 3 or 4"
     ],
     "language": "python",
     "metadata": {},
     "outputs": [
      {
       "metadata": {},
       "output_type": "pyout",
       "prompt_number": 2,
       "text": [
        "1"
       ]
      }
     ],
     "prompt_number": 2
    },
    {
     "cell_type": "markdown",
     "metadata": {},
     "source": [
      "<font size = 3pt>\n",
      "\uacb0\uacfc\uac12\uc73c\ub85c '<font color = red>1</font>'\uc774 \ucd9c\ub825\ub418\uc5c8\uc2b5\ub2c8\ub2e4.\n",
      "<br>\n",
      "<br>\n",
      "\uadf8 \uc774\uc720\ub97c \uc124\uba85\ub4dc\ub9ac\uaca0\uc2b5\ub2c8\ub2e4.<br>\n",
      "\ub17c\ub9ac \uc5f0\uc0b0\uc790\uc778 or\uc740 \uc591\ucabd \uac12 \uc911 \ud558\ub098\ub9cc\uc774\ub77c\ub3c4 \ucc38\uc778\uc9c0\ub97c \ud310\ubcc4\ud558\ub294 \uc5f0\uc0b0\uc790\uc785\ub2c8\ub2e4. \ub530\ub77c\uc11c 1\uc774 \ucc38\uc774\ubbc0\ub85c \ub4a4\uc5d0 \uc788\ub294 \uac12\uc778 2, 3, 4\ub294 \ud310\ubcc4\ud558\uc9c0 \uc54a\uc544\ub3c4 \ub418\ubbc0\ub85c \uc5f0\uc0b0\uc774 \ub05d\ub098\ub294 \uc2dc\uc810\uc5d0 \uc788\ub294 \uac12\uc778 '1'\uc744 \ucd9c\ub825\ud558\uac8c \ub418\ub294 \uac83\uc785\ub2c8\ub2e4.\n",
      "<br>\n",
      "<br>\n",
      "\uc138 \ubc88\uc9f8 Expression\uc744 \uc785\ub825\ud558\uba74 \ub2e4\uc74c\uacfc \uac19\uc740 \uacb0\uacfc\uac12\uc774 \ub098\ud0c0\ub0a9\ub2c8\ub2e4.</font>"
     ]
    },
    {
     "cell_type": "code",
     "collapsed": false,
     "input": [
      "1 and 2 or 3 and 4"
     ],
     "language": "python",
     "metadata": {},
     "outputs": [
      {
       "metadata": {},
       "output_type": "pyout",
       "prompt_number": 3,
       "text": [
        "2"
       ]
      }
     ],
     "prompt_number": 3
    },
    {
     "cell_type": "markdown",
     "metadata": {},
     "source": [
      "<font size = 3pt>\n",
      "\uacb0\uacfc\uac12\uc73c\ub85c '<font color = red>2</font>'\uac00 \ucd9c\ub825\ub418\uc5c8\uc2b5\ub2c8\ub2e4.\n",
      "<br>\n",
      "<br>\n",
      "\uadf8 \uc774\uc720\ub97c \uc124\uba85\ub4dc\ub9ac\uaca0\uc2b5\ub2c8\ub2e4.\n",
      "<br>\n",
      "\uc704 \uc124\uba85(and, or \uc5f0\uc0b0\uc790)\uc744 \ubc14\ud0d5\uc73c\ub85c \ubcf4\uc558\uc744 \ub54c, 1 and 2 \uc5f0\uc0b0\uc5d0\uc11c \uc774\ubbf8 \ub458 \ub2e4 \ucc38\uc774\ubbc0\ub85c \uc5f0\uc0b0\uac12\uc740 2\uac00 \ub429\ub2c8\ub2e4. \uadf8 \uc0c1\ud0dc\uc560\uc11c 2 or 3 \ub97c \uc5f0\uc0b0\ud558\uac8c \ub418\ub294\ub370 \uc774\ubbf8 2\uac00 \ucc38\uc774\ub77c\ub294 \uac83\uc774 \ubc1d\ud600\uc84c\uc73c\ubbc0\ub85c \ub4a4\uc5d0 \ub098\uc624\ub294 \uac12\uae4c\uc9c0 \uc5f0\uc0b0\ud558\uc9c0 \uc54a\uace0 \ubc14\ub85c \uacb0\uacfc\uac12\uc778 '2'\ub97c \ucd9c\ub825\ud558\uac8c \ub418\ub294 \uac83\uc785\ub2c8\ub2e4.\n",
      "<br>\n",
      "<br>\n",
      "\ub124 \ubc88\uc9f8 Expression\uc744 \uc785\ub825\ud558\uba74 \ub2e4\uc74c\uacfc \uac19\uc740 \uacb0\uacfc\uac12\uc774 \ub098\ud0c0\ub0a9\ub2c8\ub2e4.</font>"
     ]
    },
    {
     "cell_type": "code",
     "collapsed": false,
     "input": [
      "(1 and 2) or (3 and 4)"
     ],
     "language": "python",
     "metadata": {},
     "outputs": [
      {
       "metadata": {},
       "output_type": "pyout",
       "prompt_number": 4,
       "text": [
        "2"
       ]
      }
     ],
     "prompt_number": 4
    },
    {
     "cell_type": "markdown",
     "metadata": {},
     "source": [
      "<font size = 3pt>\n",
      "\uacb0\uacfc\uac12\uc73c\ub85c '<font color = red>2</font>'\uac00 \ucd9c\ub825\ub418\uc5c8\uc2b5\ub2c8\ub2e4.\n",
      "<br>\n",
      "<br>\n",
      "\uadf8 \uc774\uc720\ub97c \uc124\uba85\ub4dc\ub9ac\uaca0\uc2b5\ub2c8\ub2e4.\n",
      "<br>\n",
      "\uba3c\uc800, (1 and 2) \uc5f0\uc0b0\uc774 \ucc98\uc74c\uc73c\ub85c \uc2e4\ud589\uc774 \ub418\uba70, \uacb0\uacfc\uac12\uc740 2\uac00 \ub098\uc624\uac8c \ub429\ub2c8\ub2e4. \uc774\ub294 \uc704 \uc124\uba85\uc5d0\uc11c and \uc5f0\uc0b0\uc790\ub97c \uc124\uba85\ud560 \ub54c \uc65c \uc774\ub7ec\ud558\uac8c \ub098\ud0c0\ub098\ub294\uc9c0\uc5d0 \ub300\ud574 \uc124\uba85\ud558\uc600\uc2b5\ub2c8\ub2e4. \uadf8\ub9ac\uace0 \ub2e4\uc74c\uc73c\ub85c (3 and 4) \uc5f0\uc0b0\uc774 \uc2e4\ud589\uc774 \ub418\uba70 \uacb0\uacfc\uac12\uc740 4\uac00 \ub098\uc624\uac8c \ub429\ub2c8\ub2e4. \uc774 \uc0c1\ud0dc\uc5d0\uc11c \ub2e4\uc74c \uc5f0\uc0b0\uc778 or \uc5f0\uc0b0\uc744 \ud558\uac8c \ub418\uba74 2 or 4 \uc5f0\uc0b0\uc2dc\uae30 \ub9cc\ub4e4\uc5b4\uc9c0\uba70 2\ub3c4 \ucc38\uc774\uace0 4\ub3c4 \ucc38\uc774\ubbc0\ub85c \uacb0\uacfc\uac12\uc740 or \uc5f0\uc0b0\uc790\uc758 \uc18d\uc131\uc5d0 \ub530\ub77c '2'\uac00 \ub098\uc624\uac8c \ub429\ub2c8\ub2e4.\n",
      "<br>\n",
      "<br>\n",
      "\ub2e4\uc12f \ubc88\uc9f8 Expression\uc744 \uc785\ub825\ud558\uba74 \ub2e4\uc74c\uacfc \uac19\uc740 \uacb0\uacfc\uac12\uc774 \ub098\ud0c0\ub0a9\ub2c8\ub2e4.</font>"
     ]
    },
    {
     "cell_type": "code",
     "collapsed": false,
     "input": [
      "1 or 2 and 3 or 4"
     ],
     "language": "python",
     "metadata": {},
     "outputs": [
      {
       "metadata": {},
       "output_type": "pyout",
       "prompt_number": 1,
       "text": [
        "1"
       ]
      }
     ],
     "prompt_number": 1
    },
    {
     "cell_type": "markdown",
     "metadata": {},
     "source": [
      "<font size = 3pt>\n",
      "\uacb0\uacfc\uac12\uc73c\ub85c '<font color = red>1</font>'\uc774 \ucd9c\ub825\ub418\uc5c8\uc2b5\ub2c8\ub2e4.\n",
      "<br>\n",
      "<br>\n",
      "\uadf8 \uc774\uc720\ub97c \uc124\uba85\ub4dc\ub9ac\uaca0\uc2b5\ub2c8\ub2e4.\n",
      "<br>\n",
      "\ucc98\uc74c\uc5d0 1 or 2 \uc5f0\uc0b0\uc744 \ud558\uac8c \ub418\uba74 or \uc5f0\uc0b0\uc790\uc758 \uc18d\uc131\uc5d0 \ub530\ub77c \ub458 \uc911 \ud558\ub098\uc758 \uac12\ub9cc \ucc38\uc774\uba74 \ub418\ubbc0\ub85c, 1\uc774 \ucc38\uc774\ubbc0\ub85c \ubc14\ub85c \uc5f0\uc0b0\uc774 \ub05d\ub098\uace0 \uacb0\uacfc\uac12\uc778 '1'\uc774 \ucd9c\ub825\ub418\uac8c \ub429\ub2c8\ub2e4.\n",
      "<br>\n",
      "<br>\n",
      "\uc5ec\uc12f \ubc88\uc9f8 Expression\uc744 \uc785\ub825\ud558\uba74 \ub2e4\uc74c\uacfc \uac19\uc740 \uacb0\uacfc\uac12\uc774 \ub098\ud0c0\ub0a9\ub2c8\ub2e4.</font>"
     ]
    },
    {
     "cell_type": "code",
     "collapsed": false,
     "input": [
      "(1 or 2) and (3 or 4)"
     ],
     "language": "python",
     "metadata": {},
     "outputs": [
      {
       "metadata": {},
       "output_type": "pyout",
       "prompt_number": 2,
       "text": [
        "3"
       ]
      }
     ],
     "prompt_number": 2
    },
    {
     "cell_type": "markdown",
     "metadata": {},
     "source": [
      "<font size = 3pt>\n",
      "\uacb0\uacfc\uac12\uc73c\ub85c '<font color = red>3</font>'\uc774 \ucd9c\ub825\ub418\uc5c8\uc2b5\ub2c8\ub2e4.\n",
      "<br>\n",
      "<br>\n",
      "\uadf8 \uc774\uc720\ub97c \uc124\uba85\ub4dc\ub9ac\uaca0\uc2b5\ub2c8\ub2e4.\n",
      "<br>\n",
      "\uba3c\uc800, \ucc98\uc74c\uc73c\ub85c \uc5f0\uc0b0\ub418\ub294 \uc2dd\uc740 1 or 2 \uc785\ub2c8\ub2e4. \uc774 \uc2dd\uc758 \uacb0\uacfc\uac12\uc740 1\uc774 \ub098\uc624\uac8c \ub429\ub2c8\ub2e4. \uadf8 \ub2e4\uc74c\uc73c\ub85c \uc5f0\uc0b0\ub418\ub294 \uc2dd\uc740 3 or 4 \uc785\ub2c8\ub2e4. \uc774 \uc2dd\uc758 \uacb0\uacfc\uac12\uc740 3\uc774 \ub098\uc624\uac8c \ub429\ub2c8\ub2e4. \ub9c8\uc9c0\ub9c9\uc73c\ub85c \uc5f0\uc0b0\ub418\ub294 \uc2dd\uc740 \ub450 \uc2dd\uc758 \uacb0\uacfc\uac12\uc774 and \uc778 1 and 3 \uc5f0\uc0b0\uc2dd\uc785\ub2c8\ub2e4. \uc774 \uc2dd\uc758 \uacb0\uacfc\uac12\uc740 '3'\uc774 \ucd9c\ub825\ub418\uac8c \ub429\ub2c8\ub2e4.\n",
      "<br>\n",
      "<br>\n",
      "<br>\n",
      "<br>\n",
      "\ubb38\uc81c 2\ubc88\uc740 \ub2e4\uc74c\uacfc \uac19\uc2b5\ub2c8\ub2e4.\n",
      "<br>\n",
      "<ul>\n",
      "    <li>7/5, -7/5, -(7/5)\uc758 \uacb0\uacfc\ub97c \ud655\uc778\ud558\uace0 \uac01\uac01\uc758 \uacb0\uacfc\uac00 \uc65c \uadf8\ub807\uac8c \ub098\uc624\ub294 \uc9c0 \uc124\uba85\ud558\uc2dc\uc624.\n",
      "</ul>\n",
      "<br>\n",
      "<br>\n",
      "\uba3c\uc800 \uac01 \uc5f0\uc0b0 \uacb0\uacfc\uac00 \ucd9c\ub825\ub420 \uc218 \uc788\ub3c4\ub85d \ucf54\ub4dc\ub97c \uc791\uc131\ud558\uc600\uc2b5\ub2c8\ub2e4.</font>"
     ]
    },
    {
     "cell_type": "code",
     "collapsed": false,
     "input": [
      "print 7/5\n",
      "print -7/5\n",
      "print -(7/5)"
     ],
     "language": "python",
     "metadata": {},
     "outputs": [
      {
       "output_type": "stream",
       "stream": "stdout",
       "text": [
        "1\n",
        "-2\n",
        "-1\n"
       ]
      }
     ],
     "prompt_number": 3
    },
    {
     "cell_type": "markdown",
     "metadata": {},
     "source": [
      "<font size = 3pt>\n",
      "\uacb0\uacfc\uac12\uc740 \uac01\uac01 <font color = blue>1, -2, -1</font> \ub85c \ucd9c\ub825\ub418\uc5c8\uc2b5\ub2c8\ub2e4.\n",
      "<br>\n",
      "<br>\n",
      "\uadf8 \uc774\uc720\ub97c \uc124\uba85\ub4dc\ub9ac\uaca0\uc2b5\ub2c8\ub2e4.\n",
      "<br>\n",
      "\uba3c\uc800, 7/5 \ub294 \uc5f0\uc0b0\uc2dd \uadf8\ub300\ub85c 7\uc744 5\ub85c \ub098\ub204\uc5c8\uc744 \ub54c \ubaab\uc744 \ucd9c\ub825\ud558\ub77c\ub294 \uac83\uc785\ub2c8\ub2e4. \ub530\ub77c\uc11c '1'\uc774 \ucd9c\ub825\ub429\ub2c8\ub2e4.\n",
      "<br>\n",
      "\uadf8 \ub2e4\uc74c\uc73c\ub85c, -7/5 \uc5f0\uc0b0\uc2dd\uc740 \uc870\uae08 \ub2e4\ub974\uac8c \uacc4\uc0b0\uc774 \ub429\ub2c8\ub2e4. - \uc5f0\uc0b0\uc2dd\uc774 / \uc5f0\uc0b0\uc2dd \ubcf4\ub2e4 \uc6b0\uc120\uc21c\uc704\uac00 \ub192\uc73c\ubbc0\ub85c - \uc5f0\uc0b0\uc2dd\uc774 \uba3c\uc800 \uc2e4\ud589\uc774 \ub418\uc5b4\uc11c -7 \uc774 \ub418\uace0, / \uc5f0\uc0b0\uc790\uac00 \uc2e4\ud589\uc774 \ub418\uc5b4\uc11c -7\uc744 5\ub85c \ub098\ub204\ub294 \uc5f0\uc0b0\uc2dd\uc774 \ub429\ub2c8\ub2e4. \ub530\ub77c\uc11c '-2'\uac00 \ucd9c\ub825\ub429\ub2c8\ub2e4.\n",
      "<br>\n",
      "\ub9c8\uc9c0\ub9c9 \uc2dd\uc740 () \uac00 \uc788\uae30 \ub54c\ubb38\uc5d0 () \uc548\uc758 \uc5f0\uc0b0\uc2dd\uc774 \uc6b0\uc120\uc21c\uc704\uac00 \uac00\uc7a5 \ub192\uc73c\ubbc0\ub85c 7/5 \uc5f0\uc0b0\uc2dd\uc774 \uba3c\uc800 \uc2e4\ud589\uc774 \ub429\ub2c8\ub2e4. \uadf8\ub7ec\uba74 \uac12\uc740 1\uc774 \ub098\uc624\uba70, \uadf8 \ub2e4\uc74c\uc73c\ub85c - \uc5f0\uc0b0\uc2dd\uc774 \uc218\ud589\uc774 \ub418\ubbc0\ub85c \ucd9c\ub825\uac12\uc740 '-1'\uc774 \ub429\ub2c8\ub2e4.\n",
      "<br>\n",
      "<br>\n",
      "<br>\n",
      "<br>\n",
      "\ubb38\uc81c 3\ubc88\uc740 \ub2e4\uc74c\uacfc \uac19\uc2b5\ub2c8\ub2e4.\n",
      "<br>\n",
      "<ul>\n",
      "    <li>\ud0a4\ubcf4\ub4dc\ub85c \uc815\uc218\uac12\uc744 \uc785\ub825 \ubc1b\uace0 \uadf8 \uac12\uc774 \uc591\uc218\uc778\uc9c0 \uc74c\uc218\uc778\uc9c0\ub97c \ube44\ud2b8 \uc5f0\uc0b0\uc790\ub97c \uc774\uc6a9\ud558\uc5ec \ud310\ub2e8\ud558\ub294 \ud504\ub85c\uadf8\ub7a8\uc744 \uc791\uc131\ud558\uc2dc\uc624.\n",
      "</ul>\n",
      "<br>\n",
      "<br>\n",
      "\uc18c\uc2a4\ucf54\ub4dc\ub294 \ub2e4\uc74c\uacfc \uac19\uc2b5\ub2c8\ub2e4.</font>"
     ]
    },
    {
     "cell_type": "code",
     "collapsed": false,
     "input": [
      "a = input(\"Input number : \")\n",
      "b = a;\n",
      "\n",
      "b >> 1;\n",
      "\n",
      "if (b > 0) :\n",
      "    print \"\uc785\ub825\uac12\uc740 \uc591\uc218 \uc785\ub2c8\ub2e4.\"\n",
      "else :\n",
      "    print \"\uc785\ub825\uac12\uc740 \uc74c\uc218 \uc785\ub2c8\ub2e4.\""
     ],
     "language": "python",
     "metadata": {},
     "outputs": [
      {
       "name": "stdout",
       "output_type": "stream",
       "stream": "stdout",
       "text": [
        "Input number : 10\n"
       ]
      },
      {
       "output_type": "stream",
       "stream": "stdout",
       "text": [
        "\uc785\ub825\uac12\uc740 \uc591\uc218 \uc785\ub2c8\ub2e4.\n"
       ]
      }
     ],
     "prompt_number": 5
    },
    {
     "cell_type": "code",
     "collapsed": false,
     "input": [
      "a = input(\"Input number : \")\n",
      "b = a;\n",
      "\n",
      "b >> 1;\n",
      "\n",
      "if (b > 0) :\n",
      "    print \"\uc785\ub825\uac12\uc740 \uc591\uc218 \uc785\ub2c8\ub2e4.\"\n",
      "else :\n",
      "    print \"\uc785\ub825\uac12\uc740 \uc74c\uc218 \uc785\ub2c8\ub2e4.\""
     ],
     "language": "python",
     "metadata": {},
     "outputs": [
      {
       "name": "stdout",
       "output_type": "stream",
       "stream": "stdout",
       "text": [
        "Input number : -10\n"
       ]
      },
      {
       "output_type": "stream",
       "stream": "stdout",
       "text": [
        "\uc785\ub825\uac12\uc740 \uc74c\uc218 \uc785\ub2c8\ub2e4.\n"
       ]
      }
     ],
     "prompt_number": 6
    },
    {
     "cell_type": "markdown",
     "metadata": {},
     "source": [
      "<br>\n",
      "<br>\n",
      "<br>\n",
      "<font size = 3pt>\n",
      "\ubb38\uc81c 4\ubc88\uc740 \ub2e4\uc74c\uacfc \uac19\uc2b5\ub2c8\ub2e4.\n",
      "<br>\n",
      "<ul>\n",
      "    <li>\ub450 \uac1c\uc758 \ub9ac\uc2a4\ud2b8\ub97c \uc778\uc790\ub85c \ubc1b\uc544\uc11c \uadf8 \ub450 \uac1c\uc758 \ub9ac\uc2a4\ud2b8\uc5d0 \ub300\ud55c '\ud569\uc9d1\ud569'\uc744 \ubc18\ud658\ud558\ub294 \ud568\uc218 list_union(lista, listb)\ub97c \uc791\uc131\ud558\uc2dc\uc624.\n",
      "</ul>\n",
      "<br>\n",
      "<br>\n",
      "\uc18c\uc2a4\ucf54\ub4dc\ub294 \ub2e4\uc74c\uacfc \uac19\uc2b5\ub2c8\ub2e4.</font>"
     ]
    },
    {
     "cell_type": "code",
     "collapsed": false,
     "input": [
      "def list_union(lista, listb) :\n",
      "    c = lista\n",
      "    sw = 0\n",
      "    \n",
      "    for i in range(0, len(listb)) :\n",
      "        d = listb[i]\n",
      "        sw = 0\n",
      "        \n",
      "        for j in range(0, len(c)) :\n",
      "            if (c[j] == d) :\n",
      "                sw = 1\n",
      "                break\n",
      "            else :\n",
      "                sw = 0\n",
      "        \n",
      "        if (sw == 0) :\n",
      "            c.append(d)\n",
      "            \n",
      "    c.sort()\n",
      "    \n",
      "    return c\n",
      "\n",
      "lista = input(\"Input List : \")\n",
      "listb = input(\"Input List : \")\n",
      "\n",
      "print list_union(lista, listb)"
     ],
     "language": "python",
     "metadata": {},
     "outputs": [
      {
       "name": "stdout",
       "output_type": "stream",
       "stream": "stdout",
       "text": [
        "Input List : [-1,-2,-8,3,6,2]\n"
       ]
      },
      {
       "name": "stdout",
       "output_type": "stream",
       "stream": "stdout",
       "text": [
        "Input List : [-3,-5,-4,1,-6,4,1]\n"
       ]
      },
      {
       "output_type": "stream",
       "stream": "stdout",
       "text": [
        "[-8, -6, -5, -4, -3, -2, -1, 1, 2, 3, 4, 6]\n"
       ]
      }
     ],
     "prompt_number": 20
    },
    {
     "cell_type": "markdown",
     "metadata": {},
     "source": [
      "<font size = 3pt>\n",
      "\uc81c\ub300\ub85c \ub41c \uacb0\uacfc\uac12\uc774 \ucd9c\ub825\ub418\ub294 \uac83\uc744 \ud655\uc778\ud558\uc2e4 \uc218 \uc788\uc2b5\ub2c8\ub2e4.\n",
      "<br>\n",
      "<br>\n",
      "<br>\n",
      "\ubb38\uc81c 5\ubc88\uc740 \ub2e4\uc74c\uacfc \uac19\uc2b5\ub2c8\ub2e4.\n",
      "<br>\n",
      "<ul>\n",
      "    <li>\uacbd\ub85c\uc5d0 \ud574\ub2f9\ud558\ub294 \ubb38\uc790\uc5f4 1\uac1c\ub97c \uc785\ub825 \ubc1b\uc544 \uadf8 \uc548\uc5d0 \ub514\ub809\ud1a0\ub9ac \uacbd\ub85c\uba85\uacfc \ud30c\uc77c\uba85\uc744 \ubd84\ub9ac\ud558\uc5ec \ub9ac\uc2a4\ud2b8\ub85c \ubc18\ud658\ud558\ub294 \ud568\uc218 div_path(s)\ub97c \uc791\uc131\ud558\uc2dc\uc624.\n",
      "</ul>\n",
      "<br>\n",
      "<br>\n",
      "\uc18c\uc2a4\ucf54\ub4dc\ub294 \ub2e4\uc74c\uacfc \uac19\uc2b5\ub2c8\ub2e4.</font>"
     ]
    },
    {
     "cell_type": "code",
     "collapsed": false,
     "input": [
      "def div_path(s) :\n",
      "    offset = s.rfind('/')\n",
      "    \n",
      "    path = s[:offset]\n",
      "    file_name = s[offset + 1:]\n",
      "    \n",
      "    print \"[\" + \"'\" + path + \"', \" + \"'\" + file_name + \"']\"\n",
      "    \n",
      "s = raw_input(\"Input Path : \")\n",
      "\n",
      "div_path(s)"
     ],
     "language": "python",
     "metadata": {},
     "outputs": [
      {
       "name": "stdout",
       "output_type": "stream",
       "stream": "stdout",
       "text": [
        "Input Path : /usr/local/bin/python/test.py\n"
       ]
      },
      {
       "output_type": "stream",
       "stream": "stdout",
       "text": [
        "['/usr/local/bin/python', 'test.py']\n"
       ]
      }
     ],
     "prompt_number": 27
    },
    {
     "cell_type": "markdown",
     "metadata": {},
     "source": [
      "<font size = 3pt>\n",
      "\uc81c\ub300\ub85c \ub41c \uacb0\uacfc\uac12\uc774 \ucd9c\ub825\ub418\ub294 \uac83\uc744 \ud655\uc778\ud558\uc2e4 \uc218 \uc788\uc2b5\ub2c8\ub2e4.\n",
      "<br><br><br>\n",
      "\ubb38\uc81c 6\ubc88\uc740 \ub2e4\uc74c\uacfc \uac19\uc2b5\ub2c8\ub2e4.\n",
      "<br>\n",
      "<ul>\n",
      "    <li>\uc6f9 URL\ub85c \uc9c0\uc815\ub41c \uc6f9\ud398\uc774\uc9c0\ub97c \ubb38\uc790\uc5f4\ub85c \uac00\uc838\uc640 1) \ubaa8\ub4e0 HTML \ud0dc\uadf8 \ubc0f CSS\uc640 Javascript\ub97c \uc81c\uc678\ud55c \uc21c\uc218 \ud14d\uc2a4\ud2b8\ub9cc\uc744 \ucd9c\ub825\ud558\uace0, 2) \uadf8 \uc21c\uc218 \ud14d\uc2a4\ud2b8 \uc548\uc5d0 \uc874\uc7ac\ud558\ub294 \ub2e8\uc5b4\uac00 \ucd1d \uba87\uac1c\uc778\uc9c0 \ucd9c\ub825\ud558\ub294 \ud504\ub85c\uadf8\ub7a8\uc744 \uc791\uc131\ud558\uc2dc\uc624.\n",
      "</ul>\n",
      "<br>\n",
      "<br>\n",
      "\uc18c\uc2a4\ucf54\ub4dc\ub294 \ub2e4\uc74c\uacfc \uac19\uc2b5\ub2c8\ub2e4.</font>"
     ]
    },
    {
     "cell_type": "code",
     "collapsed": false,
     "input": [
      "import urllib\n",
      "import string\n",
      "\n",
      "url = raw_input(\"Input URL : \")\n",
      "\n",
      "s = urllib.urlopen(url).read()\n",
      "\n",
      "s.lower()\n",
      "\n",
      "while(True) :\n",
      "        start = -1\n",
      "        finish = -1\n",
      "\n",
      "        start = s.find('<script')\n",
      "        finish = s.find('</script')\n",
      "\n",
      "        if(start == -1 and finish == -1) :\n",
      "                break\n",
      "        else :\n",
      "                s = s[:start] + ' ' + s[finish + 9:]\n",
      "\n",
      "while(True) :\n",
      "        start = -1\n",
      "        finish = -1\n",
      "\n",
      "        start = s.find('<style')\n",
      "        finish = s.find('</style')\n",
      "\n",
      "        if(start == -1 and finish == -1) :\n",
      "                break\n",
      "        else :\n",
      "                s = s[:start] + ' ' + s[finish + 8:]\n",
      "\n",
      "while(True) :\n",
      "        start = -1\n",
      "        finish = -1\n",
      "\n",
      "        start = s.find('<')\n",
      "        finish = s.find('>')\n",
      "\n",
      "        if(start == -1 and finish == -1) :\n",
      "                break\n",
      "        else :\n",
      "                s = s[:start] + ' ' + s[finish + 1:]\n",
      "\n",
      "words = s.split()\n",
      "\n",
      "print \"\ucd1d \ub2e8\uc5b4\uc758 \uac1c\uc218 : \", len(words)\n",
      "for word in words :\n",
      "        print '\"' + word + '\"',"
     ],
     "language": "python",
     "metadata": {},
     "outputs": [
      {
       "name": "stdout",
       "output_type": "stream",
       "stream": "stdout",
       "text": [
        "Input URL : http://cse.koreatech.ac.kr\n"
       ]
      },
      {
       "output_type": "stream",
       "stream": "stdout",
       "text": [
        "\ucd1d \ub2e8\uc5b4\uc758 \uac1c\uc218 :  191\n",
        "\"\ucef4\ud4e8\ud130\uacf5\ud559\ubd80\" \"\ud648\ud398\uc774\uc9c0\" \"\ucef4\ud4e8\ud130\uacf5\ud559\ubd80\" \":\" \"\uad50\uc721\ubaa9\ud45c\" \":\" \"\ucc3e\uc544\uc624\uc2dc\ub294\uae38\" \":\" \"\uc878\uc5c5\uc791\ud488\" \":\" \"\uacf5\ud559\uc124\uacc4\" \":\" \"\ucde8\uc5c5\uc870\uc0ac2014\" \":\" \"\ucde8\uc5c5\uc870\uc0ac2013\" \"\uad50\uc218\uc9c4\" \":\" \"\ud559\uc0dd\ud68c\" \"\uc878\uc5c5\uc774\uc218\uc694\uac74\" \":\" \"\ucef4\ud4e8\ud130S/W\" \":\" \"\ucef4\ud4e8\ud130H/W\" \":\" \"\ucef4\ud4e8\ud130\uc2a4\ub9c8\ud2b8IT\" \":\" \"\ucef4\ud4e8\ud130\uc2dc\uc2a4\ud15c\uc751\uc6a9\" \":\" \"\uc7a5\ud559\uc81c\ub3c4\" \"\ubaa8\uc9d1\uc694\uac15\" \":\" \"\uc785\uc2dcQ&A\" \"\uacf5\uc9c0\uc0ac\ud56d\" \":\" \"\uc790\uc720\uac8c\uc2dc\ud310\" \":\" \"\uc775\uba85\uac8c\uc2dc\ud310\" \":\" \"\ucde8\uc5c5\uac8c\uc2dc\ud310\" \":\" \"\ub3d9\ubb38\uac8c\uc2dc\ud310\" \":\" \"\uc0ac\uc9c4\uac8c\uc2dc\ud310\" \":\" \"\ud559\ubd80\uc0ac\uc9c4\uac94\ub7ec\ub9ac\" \":\" \"\uace0\uc7a5\uc2e0\uace0\uac8c\uc2dc\ud310\" \"\uac15\uc758\uc790\ub8cc\uc2e4\" \":\" \"\uc77c\ubc18\uc790\ub8cc\uc2e4\" \":\" \"\uc11c\uc2dd\ubc0f\uc591\uc2dd\uc790\ub8cc\uc2e4\" \"\ub300\ud559\uc6d0\uc18c\uac1c\" \":\" \"\uc5f0\uad6c\uc2e4\uc18c\uac1c\" \":\" \"\ub300\ud559\uc6d0\uac8c\uc2dc\ud310\" \"\uacf5\ud559\uc778\uc99d\uc548\ub0b4\" \":\" \"\uacf5\ud559\uc778\uc99d\uac8c\uc2dc\ud310\" \":\" \"C++\" \"2014/03/27\" \"\uacf5\ud559\uc124\uacc4\" \"\ud3ec\uc2a4\ud130\ubc1c\ud45c\uacbd\uc9c4\ub300\ud68c\" \"\ud22c\ud45c...\" \"2013/12/10\" \"2013\ub144\" \"\uc878\uc5c5\uc791\ud488\" \"\ube0c\ub85c\uc154\" \"2013/10/07\" \"\uc81c\" \"4\ub300\" \"\ucef4\ud4e8\ud130\uacf5\ud559\ubd80\" \"\ud559\ud68c\uc7a5/\ubd80\ud559...\" \"2012/11/05\" \"\ub514\uc9c0\ud138\" \"\uc2dc\uc2a4\ud15c\" \"\uc124\uacc41-\" \"[\uc2e4\uc2b5-\uc870\uad50]\" \"2012/09/09\" \"2015\ub144\" \"\uc0c1\ubc18\uae30\" \"\uc0bc\uc131\" \"\uc18c\ud504\ud2b8\uc6e8\uc5b4\" \"...\" \"2014/09/25\" \"\uacfc\" \"\uc7a0\ubc14\" \"\ubd88\ucd9c\uacf5\uc9c0\uc785\ub2c8\ub2e4!!\" \"2014/09/23\" \"9/18\" \"NHN\" \"Entertainment\" \"\ucea0\ud37c\uc2a4\" \"...\" \"2014/09/17\" \"\ucef4\ud4e8\ud130\uacf5\ud559\ubd80\" \"\ud559\uc220\" \"\uc18c\ubaa8\uc784\" \"\uc528\uc557(S...\" \"2014/09/07\" \"\ud39c\ud0c0\uc2dc\ud050\ub9ac\ud2f0\uc2dc\uc2a4\ud15c\" \"\ub300\ud559\uc0dd\" \"\ub9c8\ucf00...\" \"2014/09/05\" \"(\uc8fc)\uc5e0\ud504\ub860\ud2f0\uc5b4\" \"\uc2dc\uc2a4\ud15c\" \"\uc6b4\uc601/\uac1c\ubc1c\" \"...\" \"2014/09/15\" \"\ucef4\ud4e8\ud130\uacf5\ud559\ubd80\" \"\ud559\ubd80\uc0ac\ubb34\uc2e4\" \"\uccad\ub144\uc778\ud134...\" \"2014/08/06\" \"(\uc8fc)\uc2e0\uc9c4\uc5e0\ud14d\" \"2014/06/16\" \"\uc5d1\uc2dc\ucf58\" \"\uae30\uc220\uc601\uc5c5\" \"\ucc44\uc6a9.\" \"-\" \"\uaf2d\" \"\uc9c0\ub3c4...\" \"2014/04/18\" \"\uc628\ub77c\uc778\ud3c9\uc0dd\uad50\uc721\uc6d0\" \"\uc774\ub7ec\ub2dd\" \"\uc0ac\uc5c5\" \"\uacf5...\" \"2014/04/16\" \"2014\ub144\" \"\uc878\uc5c5...\" \"\uae40\uc7ac\uc6b0\ucc98\uc7a5...\" \"2014\ub144\" \"\uc2a4\uc2b9...\" \"[\ud2b9\uc131\ud654\uc0ac\uc5c5\ub2e8]\ud29c\ud130\ub9c1\" \"\ud504\ub85c\uadf8\ub7a8\" \"...\" \"2014/09/29\" \"(\uacf5\uc9c0)2014\ub144\" \"\uc878\uc5c5\uc791\ud488\" \"\uc601\uc5b4\ubc1c\ud45c\" \"...\" \"2014/09/25\" \"[\ud2b9\uc131\ud654\uc0ac\uc5c5\ub2e8]\" \"IT\uacbd\uc9c4\ub300\ud68c\" \"\ucc38\uac00\uc9c0\uc6d0\" \"2014/09/25\" \"\uae34\uae09]\" \"\uc878\uc5c5\uc791\ud488\ube0c\ub85c\uc154\" \"\uac80\ud1a0\" \"2014/09/25\" \"\ub808\ub4dc\ud587\" \"\ucc4c\ub9b0\uc9c0\" \"\uc548\ub0b4\" \"2014/09/23\" \"[\ud2b9\uc131\ud654\uc0ac\uc5c5\ub2e8]\" \"\ud574\uc678(\uc77c\ubcf8)\" \"\uae30\uc220...\" \"2014/09/23\" \"[\ud2b9\uc131\ud654\uc0ac\uc5c5\ub2e8]\ud29c\ud130\ub9c1\" \"\ubaa8\uc9d1\uacf5\uace0(...\" \"2014/09/22\" \"SK\ud154\ub808\ucf64,\" \"\ucc28\uc138\ub300\" \"\ube44\ub514\uc624\" \"\ucf54\ub371\" \"\ud2b9...\" \"2014-09-30\" \"TTA,\" \"LTE\" \"\uc7ac\ub09c\ud1b5\uc2e0\" \"\ud575\uc2ec\" \"\uae30\ub2a5\" \"\ud45c...\" \"2014-09-30\" \"\ube44\ud2b8\uc564\ud384\uc2a4,\" \"\uc625\uc678\uc6a9\" \"\ube44\ucf58\ub2e8\ub9d0\uae30\" \"`...\" \"2014-09-30\" \"\uc6b0\uccb4\uad6d\uc54c\ub730\ud3f0\" \"`\uc6d4\" \"\uae30\ubcf8\ub8cc\" \"0\uc6d0`\" \"\uc694...\" \"2014-09-30\" \"\uc774\uc9c0\ubaa8\ubc14\uc77c,\" \"\uae30\ubcf8\ub8cc\" \"\uc5c6\ub294\" \"`EG\uc81c\ub85c...\" \"2014-09-30\"\n"
       ]
      }
     ],
     "prompt_number": 2
    },
    {
     "cell_type": "markdown",
     "metadata": {},
     "source": [
      "<font size = 3pt>\n",
      "\uc81c\ub300\ub85c \ub41c \uacb0\uacfc\uac12\uc774 \ucd9c\ub825\ub418\ub294 \uac83\uc744 \ud655\uc778\ud558\uc2e4 \uc218 \uc788\uc2b5\ub2c8\ub2e4.\n",
      "<br>\n",
      "<br>\n",
      "<br>\n",
      "<br>\n",
      "<b>3. \uc18c\uac10</b><br><br>\n",
      "\uc774\ubc88 \ud30c\uc774\uc36c \ud504\ub85c\uadf8\ub798\ubc0d \uacfc\uc81c\ub97c \uc9c4\ud589\ud558\uba74\uc11c \ubb38\uc81c 1 ~ 5\ubc88\uae4c\uc9c0\ub294 \uc27d\uac8c \uc9c4\ud589\ud560 \uc218 \uc788\uc5c8\uc9c0\ub9cc \ucc3d\uc758\uc131\uc744 \uc694\uad6c\ud558\ub294 \ubb38\uc81c 6\ubc88\uc5d0\uc11c \ub09c\uad00\uc5d0 \ubd09\ucc29\ud558\uac8c \ub418\uc5c8\uc2b5\ub2c8\ub2e4. \ud558\uc9c0\ub9cc \uafb8\uc900\ud788 \uc0dd\uac01\ud558\uace0 \uc5ec\ub7ec\ubc88 \uc2e4\ud328\uc640 \ud568\uaed8 \uace0\ub824\ud55c \uacb0\uacfc \uc815\ud655\ud55c \ub2f5\uc744 \ucc3e\uc744 \uc218 \uc788\ub294 \uc54c\uace0\ub9ac\uc998\uc744 \uc0dd\uac01\ud558\uc5ec \ud504\ub85c\uadf8\ub798\ubc0d\uc744 \ud558\uace0 \ub2f5\uc744 \uc5bb\uc5b4\ub0b4\uc5c8\uc73c\uba70 \ubb34\uc0ac\ud788 \uacfc\uc81c\ub97c \ub9c8\uce60 \uc218 \uc788\uc5c8\uc2b5\ub2c8\ub2e4. \uc774\ub97c \ud1b5\ud574 \ub2e4\uc2dc \ud55c \ubc88 \ud30c\uc774\uc36c\uc758 \ub9e4\ub825\uc5d0 \ud479 \ube60\uc838\ubcf4\ub294 \uc2dc\uac04\uc744 \uac00\uc9c8 \uc218 \uc788\uc5c8\uc2b5\ub2c8\ub2e4.</font>"
     ]
    }
   ],
   "metadata": {}
  }
 ]
}