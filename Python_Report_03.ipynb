{
 "metadata": {
  "name": "",
  "signature": "sha256:a8a110aee35f26fc6b4d84a109ccdb810e7656a089bce7335546f293d7ca419e"
 },
 "nbformat": 3,
 "nbformat_minor": 0,
 "worksheets": [
  {
   "cells": [
    {
     "cell_type": "markdown",
     "metadata": {},
     "source": [
      "<center><font size = 7pt><b>\ud30c\uc774\uc36c \ud504\ub85c\uadf8\ub798\ubc0d</b></font></center>"
     ]
    },
    {
     "cell_type": "markdown",
     "metadata": {},
     "source": [
      "<center><font size = 6pt><b>Report 03</b></font></center>"
     ]
    },
    {
     "cell_type": "markdown",
     "metadata": {},
     "source": [
      "<br>\n",
      "<font size = 5pt><b><div align = \"right\">\ud559\ubc88 : 2012136090</div>\n",
      "<br>\n",
      "<div align = \"right\">\uc774\ub984 : \uc774 \uc138 \ud55c</div></b></font>"
     ]
    },
    {
     "cell_type": "markdown",
     "metadata": {},
     "source": [
      "<br>"
     ]
    },
    {
     "cell_type": "markdown",
     "metadata": {},
     "source": [
      "<font size = 4pt><b>1. \uc11c\ub860</b></font>"
     ]
    },
    {
     "cell_type": "markdown",
     "metadata": {},
     "source": [
      "<font size = 3pt>\n",
      "\uc774\ubc88 \uacfc\uc81c\ub294 \ucd1d 8\ubb38\uc81c\uc758 \ud30c\uc774\uc36c \ud504\ub85c\uadf8\ub798\ubc0d\uc744 \uc218\ud589\ud558\uc5ec \uadf8 \uacb0\uacfc\ub97c \ub098\ud0c0\ub0b4\uace0 \uc65c \uc774\ub7ec\ud55c \uacb0\uacfc\uac00 \ub098\uc624\uac8c \ub418\uc5c8\ub294\uc9c0\uc5d0 \ub300\ud574 \uc124\uba85\uc744 \ud558\ub294 \uac83\uc785\ub2c8\ub2e4.\n",
      "</font>\n",
      "<br><br>"
     ]
    },
    {
     "cell_type": "markdown",
     "metadata": {},
     "source": [
      "<font size = 4pt><b>2. \ubcf8\ub860</b></font>"
     ]
    },
    {
     "cell_type": "markdown",
     "metadata": {},
     "source": [
      "<font size = 3pt>\n",
      "\ubb38\uc81c 1\ubc88\uc740 \ub2e4\uc74c\uacfc \uac19\uc2b5\ub2c8\ub2e4.\n",
      "<ul>\n",
      "<li>L=[1,2,3,4,5]\uc77c \ub54c \ub2e4\uc74c \uac01 \ubb38\uc7a5\uc744 \uc218\ud589\ud55c \ud6c4\uc758 \uacb0\uacfc\ub97c \ubcf4\uace0 \ub0a9\ub4dd\ud560 \ub9cc\ud55c \uc774\uc720\ub97c \uc124\uba85\ud558\uc2dc\uc624.</li>\n",
      "    <ul>\n",
      "    <li>1)\n",
      "    <pre>L[1:3] = [100]\n",
      "print L</pre></li>\n",
      "    <li>2)\n",
      "    <pre>L[1:3]=[(100)]\n",
      "print L</pre></li>\n",
      "    <li>3)\n",
      "    <pre>L[1:3] = 100\n",
      "print L</pre></li>\n",
      "    <li>4)\n",
      "    <pre>L[1:3] = (100)\n",
      "print L</pre></li>\n",
      "    <li>5)\n",
      "    <pre>L[1:3] = (100, 101, 102)\n",
      "print L</pre></li>\n",
      "    <li>6)\n",
      "    <pre>L[1:3] = [100, 101, 102]\n",
      "print L</pre></li>\n",
      "    <li>7)\n",
      "    <pre>L[1:3] = [(100, 101, 102)]\n",
      "print L</pre></li>\n",
      "    <li>8)\n",
      "    <pre>L[1:3] = [[100, 101, 102]]\n",
      "print L</pre></li>\n",
      "    </ul>\n",
      "</ul></font>"
     ]
    },
    {
     "cell_type": "code",
     "collapsed": false,
     "input": [
      "L = [1,2,3,4,5]\n",
      "\n",
      "L[1:3] = [100]\n",
      "print L"
     ],
     "language": "python",
     "metadata": {},
     "outputs": [
      {
       "output_type": "stream",
       "stream": "stdout",
       "text": [
        "[1, 100, 4, 5]\n"
       ]
      }
     ],
     "prompt_number": 2
    },
    {
     "cell_type": "code",
     "collapsed": false,
     "input": [
      "L = [1,2,3,4,5]\n",
      "\n",
      "L[1:3] = [(100)]\n",
      "print L"
     ],
     "language": "python",
     "metadata": {},
     "outputs": [
      {
       "output_type": "stream",
       "stream": "stdout",
       "text": [
        "[1, 100, 4, 5]\n"
       ]
      }
     ],
     "prompt_number": 3
    },
    {
     "cell_type": "code",
     "collapsed": false,
     "input": [
      "L = [1,2,3,4,5]\n",
      "\n",
      "L[1:3] = 100\n",
      "print L"
     ],
     "language": "python",
     "metadata": {},
     "outputs": [
      {
       "ename": "TypeError",
       "evalue": "can only assign an iterable",
       "output_type": "pyerr",
       "traceback": [
        "\u001b[0;31m---------------------------------------------------------------------------\u001b[0m\n\u001b[0;31mTypeError\u001b[0m                                 Traceback (most recent call last)",
        "\u001b[0;32m<ipython-input-4-ec441a64d6a1>\u001b[0m in \u001b[0;36m<module>\u001b[0;34m()\u001b[0m\n\u001b[1;32m      1\u001b[0m \u001b[0mL\u001b[0m \u001b[0;34m=\u001b[0m \u001b[0;34m[\u001b[0m\u001b[0;36m1\u001b[0m\u001b[0;34m,\u001b[0m\u001b[0;36m2\u001b[0m\u001b[0;34m,\u001b[0m\u001b[0;36m3\u001b[0m\u001b[0;34m,\u001b[0m\u001b[0;36m4\u001b[0m\u001b[0;34m,\u001b[0m\u001b[0;36m5\u001b[0m\u001b[0;34m]\u001b[0m\u001b[0;34m\u001b[0m\u001b[0m\n\u001b[1;32m      2\u001b[0m \u001b[0;34m\u001b[0m\u001b[0m\n\u001b[0;32m----> 3\u001b[0;31m \u001b[0mL\u001b[0m\u001b[0;34m[\u001b[0m\u001b[0;36m1\u001b[0m\u001b[0;34m:\u001b[0m\u001b[0;36m3\u001b[0m\u001b[0;34m]\u001b[0m \u001b[0;34m=\u001b[0m \u001b[0;36m100\u001b[0m\u001b[0;34m\u001b[0m\u001b[0m\n\u001b[0m\u001b[1;32m      4\u001b[0m \u001b[0;32mprint\u001b[0m \u001b[0mL\u001b[0m\u001b[0;34m\u001b[0m\u001b[0m\n",
        "\u001b[0;31mTypeError\u001b[0m: can only assign an iterable"
       ]
      }
     ],
     "prompt_number": 4
    },
    {
     "cell_type": "code",
     "collapsed": false,
     "input": [
      "L = [1,2,3,4,5]\n",
      "\n",
      "L[1:3] = (100)\n",
      "print L"
     ],
     "language": "python",
     "metadata": {},
     "outputs": [
      {
       "ename": "TypeError",
       "evalue": "can only assign an iterable",
       "output_type": "pyerr",
       "traceback": [
        "\u001b[0;31m---------------------------------------------------------------------------\u001b[0m\n\u001b[0;31mTypeError\u001b[0m                                 Traceback (most recent call last)",
        "\u001b[0;32m<ipython-input-5-080e571ee880>\u001b[0m in \u001b[0;36m<module>\u001b[0;34m()\u001b[0m\n\u001b[1;32m      1\u001b[0m \u001b[0mL\u001b[0m \u001b[0;34m=\u001b[0m \u001b[0;34m[\u001b[0m\u001b[0;36m1\u001b[0m\u001b[0;34m,\u001b[0m\u001b[0;36m2\u001b[0m\u001b[0;34m,\u001b[0m\u001b[0;36m3\u001b[0m\u001b[0;34m,\u001b[0m\u001b[0;36m4\u001b[0m\u001b[0;34m,\u001b[0m\u001b[0;36m5\u001b[0m\u001b[0;34m]\u001b[0m\u001b[0;34m\u001b[0m\u001b[0m\n\u001b[1;32m      2\u001b[0m \u001b[0;34m\u001b[0m\u001b[0m\n\u001b[0;32m----> 3\u001b[0;31m \u001b[0mL\u001b[0m\u001b[0;34m[\u001b[0m\u001b[0;36m1\u001b[0m\u001b[0;34m:\u001b[0m\u001b[0;36m3\u001b[0m\u001b[0;34m]\u001b[0m \u001b[0;34m=\u001b[0m \u001b[0;34m(\u001b[0m\u001b[0;36m100\u001b[0m\u001b[0;34m)\u001b[0m\u001b[0;34m\u001b[0m\u001b[0m\n\u001b[0m\u001b[1;32m      4\u001b[0m \u001b[0;32mprint\u001b[0m \u001b[0mL\u001b[0m\u001b[0;34m\u001b[0m\u001b[0m\n",
        "\u001b[0;31mTypeError\u001b[0m: can only assign an iterable"
       ]
      }
     ],
     "prompt_number": 5
    },
    {
     "cell_type": "code",
     "collapsed": false,
     "input": [
      "L = [1,2,3,4,5]\n",
      "\n",
      "L[1:3] = (100, 101, 102)\n",
      "print L"
     ],
     "language": "python",
     "metadata": {},
     "outputs": [
      {
       "output_type": "stream",
       "stream": "stdout",
       "text": [
        "[1, 100, 101, 102, 4, 5]\n"
       ]
      }
     ],
     "prompt_number": 6
    },
    {
     "cell_type": "code",
     "collapsed": false,
     "input": [
      "L = [1,2,3,4,5]\n",
      "\n",
      "L[1:3] = [100, 101, 102]\n",
      "print L"
     ],
     "language": "python",
     "metadata": {},
     "outputs": [
      {
       "output_type": "stream",
       "stream": "stdout",
       "text": [
        "[1, 100, 101, 102, 4, 5]\n"
       ]
      }
     ],
     "prompt_number": 7
    },
    {
     "cell_type": "code",
     "collapsed": false,
     "input": [
      "L = [1,2,3,4,5]\n",
      "\n",
      "L[1:3] = [(100, 101, 102)]\n",
      "print L"
     ],
     "language": "python",
     "metadata": {},
     "outputs": [
      {
       "output_type": "stream",
       "stream": "stdout",
       "text": [
        "[1, (100, 101, 102), 4, 5]\n"
       ]
      }
     ],
     "prompt_number": 8
    },
    {
     "cell_type": "code",
     "collapsed": false,
     "input": [
      "L = [1,2,3,4,5]\n",
      "\n",
      "L[1:3] = [[100, 101, 102]]\n",
      "print L"
     ],
     "language": "python",
     "metadata": {},
     "outputs": [
      {
       "output_type": "stream",
       "stream": "stdout",
       "text": [
        "[1, [100, 101, 102], 4, 5]\n"
       ]
      }
     ],
     "prompt_number": 9
    },
    {
     "cell_type": "markdown",
     "metadata": {},
     "source": [
      "<br>\n",
      "<font size = 3pt>\n",
      "\uacb0\uacfc\ub97c \ubcf4\uc558\uc744 \ub54c, <font color = blue>3\ubc88\uacfc 4\ubc88</font>\uc740 \uc544\uc608 \uad6c\ub3d9\uc774 \ub418\uc9c0 \uc54a\uace0, \uc5d0\ub7ec\ub97c \ucd9c\ub825\ud558\ub294 \uac83\uc744 \ud655\uc778\ud558\uc2e4 \uc218 \uc788\uc2b5\ub2c8\ub2e4.<br>\n",
      "\uc9c0\uae08\ubd80\ud130 \uac01\uac01\uc758 \uacb0\uacfc\uc5d0 \ub300\ud574 \uc124\uba85\ub4dc\ub9ac\uaca0\uc2b5\ub2c8\ub2e4.\n",
      "<br>\n",
      "<br>\n",
      "\uba3c\uc800 1\ubc88\uc758 \uacbd\uc6b0, \uacb0\uacfc\uac12\uc774 [1, 100, 4, 5]\uac00 \ucd9c\ub825\ub418\uc5c8\uc2b5\ub2c8\ub2e4. \uc5ec\uae30\uc11c L[1:3]\uc740 [1, 2, 3, 4, 5] \uc911\uc5d0\uc11c 2\ubd80\ud130 3\uae4c\uc9c0\ub97c \ub73b\ud558\ub294 \uac83\uc774\uba70 \uadf8 \uc548\uc5d0 \uc22b\uc790 100\uc744 \uc9d1\uc5b4\ub123\uae30 \ub54c\ubb38\uc5d0 2\ubd80\ud130 3\uae4c\uc9c0\ub294 \ub9ac\uc2a4\ud2b8 L\uc5d0\uc11c \uc544\uc608 \uc0ac\ub77c\uc9c0\uac8c \ub418\uace0 \uc22b\uc790 100\uc774 \ub4e4\uc5b4\uac00\uac8c \ub429\ub2c8\ub2e4. \ub530\ub77c\uc11c \uacb0\uacfc\uac00 2\ubd80\ud130 3\uae4c\uc9c0 \uc0ad\uc81c\ub418\uace0 100\uc73c\ub85c \uad50\uccb4\uac00 \ub41c [1, 100, 4, 5]\uac00 \ub098\ud0c0\ub098\ub294 \uac83\uc785\ub2c8\ub2e4.\n",
      "<br>\n",
      "<br>\n",
      "\ub2e4\uc74c\uc73c\ub85c 2\ubc88\uc758 \uacbd\uc6b0, 1\ubc88\uacfc \ub9c8\ucc2c\uac00\uc9c0\ub85c \uc22b\uc790 100\uc744 \ub123\uae30 \uc704\ud574 \ud29c\ud50c\ub85c \uc120\uc5b8\ud558\uc5ec \uc785\ub825\ud558\uc600\uc73c\ubbc0\ub85c 1\ubc88\uacfc \uac19\uc740 \uacb0\uacfc\uac00 \ub098\ud0c0\ub098\uac8c \ub429\ub2c8\ub2e4.<br>\n",
      "\ub9ac\uc2a4\ud2b8\uc758 \uac12\uc744 \ubcc0\uacbd\ud558\uae30 \uc704\ud574\uc11c\ub294 \ud29c\ud50c \ud639\uc740 \ub9ac\uc2a4\ud2b8 \ud615\uc2dd\uc73c\ub85c \uac12\uc744 \ub123\uc5b4\uc57c \ubcc0\uacbd\uc774 \ub429\ub2c8\ub2e4.\n",
      "<br>\n",
      "<br>\n",
      "\ub2e4\uc74c\uc73c\ub85c 3\ubc88\uc758 \uacbd\uc6b0, \ub9ac\uc2a4\ud2b8\ub97c \uc2ac\ub77c\uc774\uc2f1 \ud558\uba74\uc11c \uac70\uae30\uc5d0 \uc644\uc804\ud55c \uc815\uc218\ud615 \uac12\uc744 \ub123\uc73c\ub77c\uace0 \uba85\ub839\uc744 \ud558\uc600\uae30 \ub54c\ubb38\uc5d0 \uc5d0\ub7ec\uac00 \ubc1c\uc0dd\ud55c \uac83\uc785\ub2c8\ub2e4. \uc774\ub294 \uc798\ubabb\ub41c \ubc29\uc2dd\uc785\ub2c8\ub2e4. 1\ubc88 \ud639\uc740 2\ubc88\uacfc \uac19\uc740 \ubc29\uc2dd\uc73c\ub85c \uac12\uc744 \ub123\uc5b4\uc57c \ub9ac\uc2a4\ud2b8 \uac12\uc774 \ubcc0\uacbd\uc774 \ub420 \uc218 \uc788\uc2b5\ub2c8\ub2e4.\n",
      "<br>\n",
      "<br>\n",
      "\ub2e4\uc74c\uc73c\ub85c 4\ubc88\uc758 \uacbd\uc6b0, \ub9ac\uc2a4\ud2b8\ub97c \uc2ac\ub77c\uc774\uc2f1 \ud558\uba74\uc11c \uac70\uae30\uc5d0 \ud29c\ub97c\ud615\uc2dd\uc73c\ub85c \ub41c \uac12\uc744 \ub123\uc73c\ub77c\uace0 \ud558\ub294\ub370, \ud29c\ud50c\ud615\uc2dd\uc73c\ub85c \uac12\uc744 \ub123\uae30 \uc704\ud574\uc11c\ub294 \ud558\ub098\uc758 \uac12\uc774 \uc544\ub2cc \ub450 \uac1c \uc774\uc0c1\uc758 \uac12\uc744 \ub123\uc5b4\uc57c \ub300\uc785\uc774 \uac00\ub2a5\ud558\uac8c \ub429\ub2c8\ub2e4. \uadf8\ub7ec\ubbc0\ub85c \uc774\ub294 \uc5d0\ub7ec\uac00 \ucd9c\ub825\ub418\uac8c \ub429\ub2c8\ub2e4.\n",
      "<br>\n",
      "<br>\n",
      "\ub2e4\uc74c\uc73c\ub85c 5\ubc88\uc758 \uacbd\uc6b0, [(100, 101, 102)]\ub294 \ub9ac\uc2a4\ud2b8\uc5d0 \ud3ec\ud568\ub418\uc5b4\uc9c4 \ud29c\ud50c\uc744 \ub73b\ud558\ubbc0\ub85c \uacb0\uad6d \ub9ac\uc2a4\ud2b8 \ub0b4\uc5d0 \ud29c\ud50c \uac1d\uccb4\ub97c \ub123\uaca0\ub2e4\ub294 \ub73b\uc774\ub429\ub2c8\ub2e4. \ub530\ub77c\uc11c L[1:3] = [(100, 101, 102)]\ub97c \ud558\uac8c \ub418\uba74 \ub9ac\uc2a4\ud2b8 L\uc5d0\uc11c 1~2\ubc88\uc9f8 \uac12\uc744 \ud29c\ud50c (100, 101, 102) \uac1d\uccb4\ub85c \ubcc0\uacbd\ud558\uaca0\ub2e4\ub294 \ub73b\uc774\ub429\ub2c8\ub2e4.\n",
      "<br>\n",
      "<br>\n",
      "\ub2e4\uc74c\uc73c\ub85c 6\ubc88\uc758 \uacbd\uc6b0, [100, 101, 102]\ub294 \ub9d0 \uadf8\ub300\ub85c \ub9ac\uc2a4\ud2b8\uc5d0 \uac12\uc744 \ub300\uc785\ud558\uaca0\ub2e4\ub294 \ub73b\uc774\ub429\ub2c8\ub2e4. \ub530\ub77c\uc11c \ub9ac\uc2a4\ud2b8 L\uc758 1~2\ubc88\uc9f8 \uac12\uc744 100, 101, 102\ub85c \ubc14\uafb8\uac8c \ub429\ub2c8\ub2e4.\n",
      "<br>\n",
      "<br>\n",
      "\ub2e4\uc74c\uc73c\ub85c 7\ubc88\uc758 \uacbd\uc6b0, [(100, 101, 102)]\uac00 \ub73b\ud558\ub294 \uac83\uc740 \ub9ac\uc2a4\ud2b8 \ub0b4\uc5d0 \ud29c\ud50c \uac1d\uccb4\uc778 (100, 101, 102)\ub97c \ub300\uc785\ud558\uaca0\ub2e4\ub294 \ub73b\uc785\ub2c8\ub2e4. \ub530\ub77c\uc11c \ub9ac\uc2a4\ud2b8 L\uc758 1~2\ubc88\uc9f8 \uc704\uce58\uc5d0 \ud29c\ud50c \uac1d\uccb4\uac00 \ub4e4\uc5b4\uac00\uac8c \ub418\uc5b4 \uacb0\uacfc\uac12\uc774 [1, (100, 101, 102), 4, 5] \uac00 \ub418\ub294 \uac83\uc785\ub2c8\ub2e4.\n",
      "<br>\n",
      "<br>\n",
      "\ub9c8\uc9c0\ub9c9\uc73c\ub85c 8\ubc88\uc758 \uacbd\uc6b0, [[100, 101, 102]]\uac00 \ub73b\ud558\ub294 \uac83\uc740 \ub9ac\uc2a4\ud2b8 \ub0b4\uc5d0 \ub9ac\uc2a4\ud2b8 \uac1d\uccb4\uc778 [100, 101, 102]\ub97c \ub300\uc785\ud558\uaca0\ub2e4\ub294 \ub73b\uc785\ub2c8\ub2e4. \uacb0\uad6d \ub9ac\uc2a4\ud2b8 \uc548\uc5d0 \ub9ac\uc2a4\ud2b8\uac00 \uc874\uc7ac\ud558\ub294 \ud615\uc2dd\uc774 \ub429\ub2c8\ub2e4. \ub530\ub77c\uc11c \uacb0\uacfc\uac12\uc774 [1, [100, 101, 102], 4, 5]\uac00 \ub418\ub294 \uac83\uc785\ub2c8\ub2e4.\n",
      "<br>\n",
      "<br><br><br>\n",
      "\ubb38\uc81c 2\ubc88\uc740 \ub2e4\uc74c\uacfc \uac19\uc2b5\ub2c8\ub2e4.\n",
      "<ul>\n",
      "    <li>\ubb38\uc790\uc5f4 S='Hello World and Python'\uc5d0 \ub300\ud574 \ub2e4\uc74c \uc694\uad6c\uc0ac\ud56d\uc5d0 \ub300\ud55c Python \ucf54\ub4dc\ub97c \uc81c\uc2dc\ud558\uc2dc\uc624.</li>\n",
      "    <ul>\n",
      "        <li>1) \ub2e8\uc5b4\uc758 \uc21c\uc11c\uac00 \uc5ed\uc21c\uc73c\ub85c \ub418\uc5b4\uc9c4 \ubb38\uc790\uc5f4 ('Python and World Hello')\uc744 \ub9cc\ub4e4\uace0\n",
      "        <li>2) 1)\uc758 \uacb0\uacfc \ubb38\uc790\uc5f4\uc5d0 \ub300\ud574 \uba54\uc18c\ub4dc split\uacfc join\uc744 \uc774\uc6a9\ud558\uc5ec \uacf5\ubc31\uc744 \ubaa8\ub450 \uc5c6\uc5d4 \ubb38\uc790\uc5f4 'PythonandWorldHello'\uc744 \ub9cc\ub4dc\uc2dc\uc624.\n",
      "    </ul>\n",
      "</ul>\n",
      "</font>"
     ]
    },
    {
     "cell_type": "code",
     "collapsed": false,
     "input": [
      "s = 'Hello World and Python'\n",
      "\n",
      "s = s[16:] + ' ' + s[12:15] + ' ' + s[6:11] + ' ' + s[:5]\n",
      "\n",
      "ms = s.split()\n",
      "s = ''.join(ms)\n",
      "\n",
      "print s"
     ],
     "language": "python",
     "metadata": {},
     "outputs": [
      {
       "output_type": "stream",
       "stream": "stdout",
       "text": [
        "PythonandWorldHello\n"
       ]
      }
     ],
     "prompt_number": 3
    },
    {
     "cell_type": "markdown",
     "metadata": {},
     "source": [
      "<font size = 3pt><br>\n",
      "\uacb0\uacfc\uac00 \uc81c\ub300\ub85c \ub098\uc624\ub294 \uac83\uc744 \ud655\uc778\ud558\uc2e4 \uc218 \uc788\uc2b5\ub2c8\ub2e4.\n",
      "<br><br><br>\n",
      "<br>\n",
      "\ubb38\uc81c 3\ubc88\uc740 \ub2e4\uc74c\uacfc \uac19\uc2b5\ub2c8\ub2e4.\n",
      "<br>\n",
      "<ul>\n",
      "    <li>\ub2e4\uc74c \ucf54\ub4dc\ub97c \ubcf4\uace0 \ubb3c\uc74c\uc5d0 \ub2f5\ud558\uc2dc\uc624.\n",
      "    <pre>a = [1, 2, 3]\n",
      "b = a &#42; 3\n",
      "c = [a] &#42; 3\n",
      "print b\n",
      "print c\n",
      "    </pre>\n",
      "    <ul>\n",
      "        <li>1) \uc704 \ucf54\ub4dc\ub97c \uc218\ud589\ud55c \uc774\ud6c4 \ub2e4\uc74c \ucf54\ub4dc\ub97c \uc218\ud589\ud55c \ud6c4 b\uc640 c\uc758 \ub0b4\uc6a9\uc744 \ud655\uc778\ud558\uc2dc\uc624.\n",
      "        <pre>a[0] = 0</pre>\n",
      "        <li>2) b\uc640 c \uac1d\uccb4\uc758 \ucc28\uc774\ub294 \ubb34\uc5c7\uc778\uac00?\n",
      "    </ul>\n",
      "</ul>\n",
      "</font>"
     ]
    },
    {
     "cell_type": "code",
     "collapsed": false,
     "input": [
      "a = [1,2,3]\n",
      "b = a * 3\n",
      "c = [a] * 3\n",
      "\n",
      "a[0] = 0\n",
      "\n",
      "print b\n",
      "print c"
     ],
     "language": "python",
     "metadata": {},
     "outputs": [
      {
       "output_type": "stream",
       "stream": "stdout",
       "text": [
        "[1, 2, 3, 1, 2, 3, 1, 2, 3]\n",
        "[[0, 2, 3], [0, 2, 3], [0, 2, 3]]\n"
       ]
      }
     ],
     "prompt_number": 4
    },
    {
     "cell_type": "markdown",
     "metadata": {},
     "source": [
      "<font size = 3pt><br>\n",
      "a[0] = 0\uc744 \uc218\ud589\ud55c \ud6c4 b\uc640 c\uc758 \ub0b4\uc6a9\uc744 \ud655\uc778\ud574\ubcf4\uba74 \ud655\uc5f0\ud788 \ub2e4\ub978 \uc810\uc774 \ub098\ud0c0\ub098\uac8c \ub429\ub2c8\ub2e4. \uba3c\uc800 b\uc758 \uacbd\uc6b0\uc5d0\ub294 \ub2e8\uc21c\ud788 \ub9ac\uc2a4\ud2b8\uc758 \uac12\ub9cc\uc744 \uac00\uc9c0\uace0 \uc640\uc11c 3\ubc88 \ubc18\ubcf5\ud558\uc5ec \ucd9c\ub825\uc744 \ud558\uac8c \ub429\ub2c8\ub2e4. \uacb0\uacfc\uc801\uc73c\ub85c b\ub294 a \ub9ac\uc2a4\ud2b8 \uac1d\uccb4\ub97c \uc9c1\uc811 \ubc1b\uc544\uc624\ub294 \uac83\uc774 \uc544\ub2cc, a \ub9ac\uc2a4\ud2b8\uc758 \uac12\ub9cc\uc744 \uac00\uc9c0\uace0 \uc640\uc11c \ub530\ub85c \ub9ac\uc2a4\ud2b8 \uac1d\uccb4\ub97c \ub9cc\ub4e0 \uac83\uc774\uae30 \ub54c\ubb38\uc5d0 a \ub9ac\uc2a4\ud2b8 \uac1d\uccb4\uc758 \uac12\uc744 \ubc14\uafd4\ub3c4 b\uc758 \uac12\uc740 \ubc14\ub00c\uc9c0 \uc54a\uc2b5\ub2c8\ub2e4. \ubc18\uba74 c\uc758 \uacbd\uc6b0\uc5d0\ub294 a \ub9ac\uc2a4\ud2b8 \uac1d\uccb4\ub97c \uc9c1\uc811 \ubc1b\ub294 \uac83\uc774\ubbc0\ub85c a \ub9ac\uc2a4\ud2b8 \uac1d\uccb4\uc758 \uac12\uc744 \ubc14\uafb8\uac8c \ub418\uba74 c \uc758 \uac12\ub3c4 \ubcc0\uacbd\uc774 \ub418\ub294 \uac83\uc785\ub2c8\ub2e4.\n",
      "<br>\n",
      "<br>\n",
      "<br>\n",
      "<br>\n",
      "\ubb38\uc81c 4\ubc88\uc740 \ub2e4\uc74c\uacfc \uac19\uc2b5\ub2c8\ub2e4.\n",
      "<br>\n",
      "<ul>\n",
      "    <li>\ub2e4\uc74c \ubb38\uc790\uc5f4\uc744 ':'\uc744 \uae30\uc900\uc73c\ub85c \ubd84\ub9ac\ud558\uc5ec \ub9ac\uc2a4\ud2b8\ub85c \ub9cc\ub4e4\uace0 \uac01 \ubb38\uc790\uc5f4\uc758 \uc88c\uc6b0 \uacf5\ubc31\uc744 \uc81c\uac70\ud558\uc2dc\uc624(\uc989, \ubb38\uc790\uc5f4 s\uc5d0\uc11c l\uc744 \ub9cc\ub4e4\uc5b4\ub77c)\n",
      "    <pre>s = '   first star   :   second star   :   third star   '\n",
      "l = ['first star', 'second star', 'third star']</pre>\n",
      "    <ul>\n",
      "        <li>1) for ~ in \ubb38\uc744 \uc774\uc6a9\ud55c \ucf54\ub4dc\ub97c \uc791\uc131\ud558\uc2dc\uc624.\n",
      "        <li>2) \ub9ac\uc2a4\ud2b8 \ub0b4\ud3ec(list comprehension)\ub97c \uc774\uc6a9\ud55c \ucf54\ub4dc\ub97c \uc791\uc131\ud558\uc2dc\uc624.\n",
      "    </ul>\n",
      "</ul>\n",
      "</font>"
     ]
    },
    {
     "cell_type": "code",
     "collapsed": false,
     "input": [
      "s = '   first star   :   second star   :   third star   '\n",
      "l = []\n",
      "temp_list = s.split(':')\n",
      "\n",
      "for i in temp_list :\n",
      "    temp_str_1 = temp_list.pop(0)\n",
      "    temp_str_2 = temp_str_1.strip()\n",
      "    l.append(temp_str_2)\n",
      "    \n",
      "temp_str_1 = temp_list.pop(0)\n",
      "temp_str_2 = temp_str_1.strip()\n",
      "l.append(temp_str_2)\n",
      "\n",
      "print l"
     ],
     "language": "python",
     "metadata": {},
     "outputs": [
      {
       "output_type": "stream",
       "stream": "stdout",
       "text": [
        "['first star', 'second star', 'third star']\n"
       ]
      }
     ],
     "prompt_number": 17
    },
    {
     "cell_type": "code",
     "collapsed": false,
     "input": [
      "s = '   first star   :   second star   :   third star   '\n",
      "l = s.split(':')\n",
      "\n",
      "l = [i.strip() for i in l]\n",
      "\n",
      "print l"
     ],
     "language": "python",
     "metadata": {},
     "outputs": [
      {
       "output_type": "stream",
       "stream": "stdout",
       "text": [
        "['first star', 'second star', 'third star']\n"
       ]
      }
     ],
     "prompt_number": 20
    },
    {
     "cell_type": "markdown",
     "metadata": {},
     "source": [
      "<font size = 3pt>\n",
      "<br>\n",
      "\uacb0\uacfc\uac12\uc774 \uc81c\ub300\ub85c \ub098\uc624\ub294 \uac83\uc744 \ud655\uc778\ud558\uc2e4 \uc218 \uc788\uc2b5\ub2c8\ub2e4.\n",
      "<br>\n",
      "<br>\n",
      "<br>\n",
      "<br>\n",
      "\ubb38\uc81c 5\ubc88\uc740 \ub2e4\uc74c\uacfc \uac19\uc2b5\ub2c8\ub2e4.\n",
      "<ul>\n",
      "    <li>\ub2e4\uc74c\uacfc \uac19\uc774 0\ubcf4\ub2e4 \ud070 \uc815\uc218 \ub9ac\uc2a4\ud2b8 \ubcc0\uc218 list\ub97c \uc778\uc790\ub85c \ubc1b\ub294 \ud568\uc218 addall(list)\uc640 addallodd(list)\ub97c for ~ in \ub9ac\ud130\ub110\uacfc \ub9ac\uc2a4\ud2b8 \ub0b4\ud3ec \ubc29\uc2dd\uc744 \uac01\uac01 \uc81c\uc2dc\ud558\uc2dc\uc624.\n",
      "    <ul>\n",
      "        <li>1) addall(list) \ud568\uc218 (\ub9ac\uc2a4\ud2b8 \ub0b4\uc758 \ubaa8\ub4e0 \uc815\uc218\ub97c \ub354\ud558\ub294 \ud568\uc218\ub85c\uc11c \ud574\ub2f5\uc73c\ub85c\ub294 for ~ in \ub9ac\ud130\ub7f4\uacfc \ub9ac\uc2a4\ud2b8 \ub0b4\ud3ec \ubc29\uc2dd\uc73c\ub85c \uac01\uac01 \uc81c\uc2dc\ud558\uc2dc\uc624.)\n",
      "        <ul>\n",
      "            <li><pre>   >>> addall([1])\n",
      "   1</pre>\n",
      "        </ul>\n",
      "        <ul>\n",
      "            <li><pre>   >>> addall([1, 2, 3, 4, 5, 6, 7, 8, 9])\n",
      "   45</pre>\n",
      "        </ul>\n",
      "        <li>2) addallodd(list) \ud568\uc218 (\ub9ac\uc2a4\ud2b8\ub0b4\uc758 \ubaa8\ub4e0 \ud640\uc218\ub97c \ub354\ud558\ub294 \ud568\uc218\ub85c\uc11c \ud574\ub2f5\uc73c\ub85c\ub294 for ~ in \ub9ac\ud130\ub7f4\uacfc \ub9ac\uc2a4\ud2b8 \ub0b4\ud3ec \ubc29\uc2dd\uc73c\ub85c \uac01\uac01 \uc81c\uc2dc\ud558\uc2dc\uc624.)\n",
      "        <ul>\n",
      "            <li><pre>   >>> addallodd([1])\n",
      "   1</pre>\n",
      "        </ul>\n",
      "        <ul>\n",
      "            <li><pre>   >>> addallodd([1, 2, 3, 4, 5, 6, 7, 8, 9])\n",
      "   25</pre>\n",
      "        </ul>\n",
      "    </ul>\n",
      "</ul>\n",
      "</font>"
     ]
    },
    {
     "cell_type": "code",
     "collapsed": false,
     "input": [
      "def addall(l) :\n",
      "    hap = 0\n",
      "    for i in l :\n",
      "        hap += i\n",
      "    \n",
      "    print hap\n",
      "\n",
      "l = input(\"input list : \")\n",
      "\n",
      "addall(l)"
     ],
     "language": "python",
     "metadata": {},
     "outputs": [
      {
       "name": "stdout",
       "output_type": "stream",
       "stream": "stdout",
       "text": [
        "input list : [1,2,3,4,5]\n"
       ]
      },
      {
       "output_type": "stream",
       "stream": "stdout",
       "text": [
        "15\n"
       ]
      }
     ],
     "prompt_number": 26
    },
    {
     "cell_type": "code",
     "collapsed": false,
     "input": [
      "def addall(l) :\n",
      "    hap = sum(i for i in l)\n",
      "    \n",
      "    print hap\n",
      "    \n",
      "l = input(\"input list : \")\n",
      "\n",
      "addall(l)"
     ],
     "language": "python",
     "metadata": {},
     "outputs": [
      {
       "name": "stdout",
       "output_type": "stream",
       "stream": "stdout",
       "text": [
        "input list : [1,2,3,4,5]\n"
       ]
      },
      {
       "output_type": "stream",
       "stream": "stdout",
       "text": [
        "15\n"
       ]
      }
     ],
     "prompt_number": 45
    },
    {
     "cell_type": "code",
     "collapsed": false,
     "input": [
      "def addallodd(l) :\n",
      "    hap = 0\n",
      "    \n",
      "    for i in l :\n",
      "        if (i % 2 != 0) :\n",
      "            hap += i\n",
      "    \n",
      "    print hap\n",
      "    \n",
      "l = input(\"input list : \")\n",
      "\n",
      "addallodd(l)"
     ],
     "language": "python",
     "metadata": {},
     "outputs": [
      {
       "name": "stdout",
       "output_type": "stream",
       "stream": "stdout",
       "text": [
        "input list : [1,2,3,4,5]\n"
       ]
      },
      {
       "output_type": "stream",
       "stream": "stdout",
       "text": [
        "9\n"
       ]
      }
     ],
     "prompt_number": 46
    },
    {
     "cell_type": "code",
     "collapsed": false,
     "input": [
      "def addallodd(l) :\n",
      "    hap = sum(i for i in l if (i % 2 != 0))\n",
      "    \n",
      "    print hap\n",
      "    \n",
      "l = input(\"input list : \")\n",
      "\n",
      "addallodd(l)"
     ],
     "language": "python",
     "metadata": {},
     "outputs": [
      {
       "name": "stdout",
       "output_type": "stream",
       "stream": "stdout",
       "text": [
        "input list : [1,2,3,4,5]\n"
       ]
      },
      {
       "output_type": "stream",
       "stream": "stdout",
       "text": [
        "9\n"
       ]
      }
     ],
     "prompt_number": 47
    },
    {
     "cell_type": "markdown",
     "metadata": {},
     "source": [
      "<br>\n",
      "<br>\n",
      "<br>\n",
      "<font size = 3pt>\n",
      "\ubb38\uc81c 6\ubc88\uc740 \ub2e4\uc74c\uacfc \uac19\uc2b5\ub2c8\ub2e4.\n",
      "<br>\n",
      "<ul>\n",
      "    <li>\ub2e4\uc74c \ucf54\ub4dc\ub97c \ubcf4\uace0 \ubb3c\uc74c\uc5d0 \ub2f5\ud558\uc2dc\uc624.\n",
      "    <pre>\n",
      "    L1 = [1, 2, 3]\n",
      "    L2 = [4, 5, 6]\n",
      "    d = {'low':L1, 'high':L2}\n",
      "    e = d\n",
      "    f = d.copy()\n",
      "    print d\n",
      "    print e\n",
      "    print f\n",
      "    print\n",
      "    d['low'] = [10, 20, 30]\n",
      "    d['high'][1] = 500\n",
      "    print d\n",
      "    print e\n",
      "    print f</pre>\n",
      "    <ul>\n",
      "        <li>1) \uc704 \ucf54\ub4dc\uc758 \uc218\ud589 \uacb0\uacfc d\uc640 e\ub294 \ud56d\uc0c1 \uac19\uc740 \uacb0\uacfc\ub97c \ucd9c\ub825\ud55c\ub2e4. \uadf8 \uc774\uc720\ub294 \ubb34\uc5c7\uc778\uac00?\n",
      "        <li>2) \uc704 \ucf54\ub4dc\uc758 \uc218\ud589 \uacb0\uacfc \ub9c8\uc9c0\ub9c9 f\uc758 \ub0b4\uc6a9\uc740 \ub2e4\uc74c\uacfc \uac19\ub2e4. \uc774 \ub54c 'high'\ud0a4\uc758 \uac12 \ub0b4\uc6a9 \uc911 500\uc774 \ucd9c\ub825\ub41c \uc774\uc720\uc640 'low'\ud0a4\uc758 \uac12 \ub0b4\uc6a9 \uc911 [1, 2, 3]\uc774 \ucd9c\ub825\ub41c \uc774\uc720\ub97c \uc124\uba85\ud558\uc2dc\uc624.\n",
      "        <pre>{'high':[4, 500, 6], 'low':[1, 2, 3]}</pre>\n",
      "    </ul>\n",
      "</ul>\n",
      "</font>"
     ]
    },
    {
     "cell_type": "code",
     "collapsed": false,
     "input": [
      "L1 = [1,2,3]\n",
      "L2 = [4,5,6]\n",
      "d = {'low':L1, 'high':L2}\n",
      "e = d\n",
      "f = d.copy()\n",
      "print d\n",
      "print e\n",
      "print f\n",
      "print\n",
      "d['low'] = [10, 20, 30]\n",
      "d['high'][1] = 500\n",
      "print d\n",
      "print e\n",
      "print f"
     ],
     "language": "python",
     "metadata": {},
     "outputs": [
      {
       "output_type": "stream",
       "stream": "stdout",
       "text": [
        "{'high': [4, 5, 6], 'low': [1, 2, 3]}\n",
        "{'high': [4, 5, 6], 'low': [1, 2, 3]}\n",
        "{'high': [4, 5, 6], 'low': [1, 2, 3]}\n",
        "\n",
        "{'high': [4, 500, 6], 'low': [10, 20, 30]}\n",
        "{'high': [4, 500, 6], 'low': [10, 20, 30]}\n",
        "{'high': [4, 500, 6], 'low': [1, 2, 3]}\n"
       ]
      }
     ],
     "prompt_number": 48
    },
    {
     "cell_type": "markdown",
     "metadata": {},
     "source": [
      "<br>\n",
      "<font size = 3pt>\n",
      "1) \uc758 \uc774\uc720\ub294 d \uc640 e\uac00 \uc11c\ub85c \uac19\uc740 \uac1d\uccb4\ub97c \uac00\ub9ac\ud0a4\uace0 \uc0ac\uc6a9\ud558\uae30 \ub54c\ubb38\uc774\ub2e4.\n",
      "<br>\n",
      "2) \uc758 \uc774\uc720\ub294 \uc6b0\uc120 f\uac00 d\ub97c shallow copy\ub97c \ud558\uae30 \ub54c\ubb38\uc5d0 \uc11c\ub85c \uac1d\uccb4\ub97c \uacf5\uc720\ud558\uac8c \ub429\ub2c8\ub2e4. \ud558\uc9c0\ub9cc \uacb0\uacfc\ub85c \ubcf4\uc558\uc744 \ub54c, 'low'\uc758 \ud0a4 \uac12\uc740 \uc11c\ub85c \uacf5\uc720\ub97c \ud558\uc9c0 \uc54a\uace0 \uc0c8\ub85c\uc6b4 \uac1d\uccb4\ub97c \ub9cc\ub4e4\uc5b4\uc11c \uc0dd\uc131\uc744 \ud558\ub294 \uac83\uc73c\ub85c \ubcf4\uc785\ub2c8\ub2e4. \ub530\ub77c\uc11c d\uc758 'high' \ud0a4 \uac12 \uc911 1\ubc88 \uc9f8 \ub9ac\uc2a4\ud2b8\uc758 \uac12\uc744 \ubc14\uafb8\uac8c \ub418\uba74 f\uc758 'high'\uc758 \ud0a4 \uac12\ub3c4 \ubcc0\uacbd\uc774 \ub418\uc9c0\ub9cc, 'low'\uc758 \ud0a4 \uac12\uc740 \ubcc0\uacbd\uc774 \ub418\uc9c0 \uc54a\ub294 \uac83\uc785\ub2c8\ub2e4.\n",
      "<br>\n",
      "<br>\n",
      "<br>\n",
      "<br>\n",
      "\ubb38\uc81c 7\ubc88\uc740 \ub2e4\uc74c\uacfc \uac19\uc2b5\ub2c8\ub2e4.\n",
      "<br>\n",
      "<ul>\n",
      "    <li>\uc0ac\uc804 d = {'one':1, 'two':2, 'three':3, 'four':4, 'five':5}\uac00 \uc8fc\uc5b4\uc84c\uc744 \ub54c \ub2e4\uc74c \uc694\uad6c\uc0ac\ud56d\uc5d0 \ub9de\ub294 \ucf54\ub4dc\ub97c \uc81c\uc2dc\ud558\uc2dc\uc624.\n",
      "    <ul>\n",
      "        <li>1) \ud0a4\uc758 \uc54c\ud30c\ubcb3 \uc624\ub984\ucc28\uc21c \uc21c\uc11c\ub300\ub85c \ud29c\ud50c (\ud0a4, \uac12)\uc744 \ucc28\ub840\ub300\ub85c \ucd9c\ub825\ud558\uc2dc\uc624.\n",
      "        <li>2) \ud0a4\uc758 \uc54c\ud30c\ubcb3 \ub0b4\ub9bc\ucc28\uc21c \uc21c\uc11c\ub300\ub85c \ud29c\ud50c (\ud0a4, \uac12)\uc744 \ucc28\ub840\ub300\ub85c \ucd9c\ub825\ud558\uc2dc\uc624.\n",
      "        <li>3) \uac12\uc758 \uc624\ub984\ucc28\uc21c \uc21c\uc11c\ub300\ub85c \ud29c\ud50c(\ud0a4, \uac12)\uc744 \ucc28\ub840\ub300\ub85c \ucd9c\ub825\ud558\uc2dc\uc624.\n",
      "        <li>4) \uac12\uc758 \ub0b4\ub9bc\ucc28\uc21c \uc21c\uc11c\ub300\ub85c \ud29c\ud50c(\ud0a4, \uac12)\uc744 \ucc28\ub840\ub300\ub85c \ucd9c\ub825\ud558\uc2dc\uc624.\n",
      "    </ul>\n",
      "</ul>\n",
      "</font>"
     ]
    },
    {
     "cell_type": "code",
     "collapsed": false,
     "input": [
      "d = {'one':1, 'two':2, 'three':3, 'four':4, 'five':5}\n",
      "\n",
      "keys = d.keys()\n",
      "\n",
      "keys.sort()\n",
      "\n",
      "for i in keys :\n",
      "    print (i, d[i])"
     ],
     "language": "python",
     "metadata": {},
     "outputs": [
      {
       "output_type": "stream",
       "stream": "stdout",
       "text": [
        "('five', 5)\n",
        "('four', 4)\n",
        "('one', 1)\n",
        "('three', 3)\n",
        "('two', 2)\n"
       ]
      }
     ],
     "prompt_number": 54
    },
    {
     "cell_type": "code",
     "collapsed": false,
     "input": [
      "def mycmp(a1, a2) :\n",
      "    return cmp(a2, a1)\n",
      "\n",
      "d = {'one':1, 'two':2, 'three':3, 'four':4, 'five':5}\n",
      "\n",
      "keys = d.keys()\n",
      "\n",
      "keys.sort(mycmp)\n",
      "\n",
      "for i in keys :\n",
      "    print (i, d[i])"
     ],
     "language": "python",
     "metadata": {},
     "outputs": [
      {
       "output_type": "stream",
       "stream": "stdout",
       "text": [
        "('two', 2)\n",
        "('three', 3)\n",
        "('one', 1)\n",
        "('four', 4)\n",
        "('five', 5)\n"
       ]
      }
     ],
     "prompt_number": 55
    },
    {
     "cell_type": "code",
     "collapsed": false,
     "input": [
      "d = {'one':1, 'two':2, 'three':3, 'four':4, 'five':5}\n",
      "\n",
      "temp_d = d.items()\n",
      "\n",
      "temp_d.sort(cmp = None, reverse = False, key = lambda item : item[1])\n",
      "\n",
      "print temp_d"
     ],
     "language": "python",
     "metadata": {},
     "outputs": [
      {
       "output_type": "stream",
       "stream": "stdout",
       "text": [
        "[('one', 1), ('two', 2), ('three', 3), ('four', 4), ('five', 5)]\n"
       ]
      }
     ],
     "prompt_number": 1
    },
    {
     "cell_type": "code",
     "collapsed": false,
     "input": [
      "d = {'one':1, 'two':2, 'three':3, 'four':4, 'five':5}\n",
      "\n",
      "temp_d = d.items()\n",
      "\n",
      "temp_d.sort(cmp = None, reverse = True, key = lambda item : item[1])\n",
      "\n",
      "print temp_d"
     ],
     "language": "python",
     "metadata": {},
     "outputs": [
      {
       "output_type": "stream",
       "stream": "stdout",
       "text": [
        "[('five', 5), ('four', 4), ('three', 3), ('two', 2), ('one', 1)]\n"
       ]
      }
     ],
     "prompt_number": 2
    },
    {
     "cell_type": "markdown",
     "metadata": {},
     "source": [
      "<br>\n",
      "<font size = 3pt>\n",
      "\uc0ac\uc804\uc758 \ud0a4\ub97c \uc774\uc6a9\ud558\uc5ec \uc815\ub82c\uc744 \ud560 \ub54c\ub294 \ud0a4 \uac12\ub9cc\uc744 \ub530\ub85c \ub9ac\uc2a4\ud2b8\ub85c \ube80 \ub2e4\uc74c \uc815\ub82c\uc744 \ud55c \ub4a4 \ucd9c\ub825\uc744 \ud558\uc600\uc2b5\ub2c8\ub2e4. \uac12\uc744 \uc774\uc6a9\ud558\uc5ec \uc815\ub82c\uc744 \ud560 \ub54c\ub294 \uba3c\uc800 \uc0ac\uc804\uc758 \ub370\uc774\ud130\ub97c \ud29c\ud50c\ud654\ud558\uc5ec \ub9ac\uc2a4\ud2b8\ub85c \uc800\uc7a5\ud558\ub3c4\ub85d items() \ubaa8\ub4c8\uc744 \uc0ac\uc6a9\ud558\uc600\uc73c\uba70 sort \ubaa8\ub4c8\uc758 \uc18d\uc131\uc744 \uc774\uc6a9\ud558\uc5ec \uc815\ub82c\uc744 \ud558\uc600\uc2b5\ub2c8\ub2e4.\n",
      "</font>"
     ]
    }
   ],
   "metadata": {}
  }
 ]
}