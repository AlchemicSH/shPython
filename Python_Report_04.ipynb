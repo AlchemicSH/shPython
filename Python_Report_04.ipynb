{
 "metadata": {
  "name": "",
  "signature": "sha256:85a6a32999d637c4f1023f59a388c29fb9cf2413bbb0351a870fa25db244a4cb"
 },
 "nbformat": 3,
 "nbformat_minor": 0,
 "worksheets": [
  {
   "cells": [
    {
     "cell_type": "markdown",
     "metadata": {},
     "source": [
      "<center><font size = 7pt><b>\ud30c\uc774\uc36c \ud504\ub85c\uadf8\ub798\ubc0d</b></font></center>"
     ]
    },
    {
     "cell_type": "markdown",
     "metadata": {},
     "source": [
      "<center><font size = 6pt><b>Report 04</b></font></center>"
     ]
    },
    {
     "cell_type": "markdown",
     "metadata": {},
     "source": [
      "<br>\n",
      "<font size = 5pt><b><div align = \"right\">\ud559\ubc88 : 2012136090</div>\n",
      "<br>\n",
      "<div align = \"right\">\uc774\ub984 : \uc774 \uc138 \ud55c</div></b></font>"
     ]
    },
    {
     "cell_type": "markdown",
     "metadata": {},
     "source": [
      "<br>\n",
      "<font size = 4pt><b>1. \uc11c\ub860</b></font>"
     ]
    },
    {
     "cell_type": "markdown",
     "metadata": {},
     "source": [
      "<font size = 3pt>\n",
      "\uc774\ubc88 \uacfc\uc81c\ub294 \ucd1d 9\ubb38\uc81c\uc758 \ud30c\uc774\uc36c \ud504\ub85c\uadf8\ub798\ubc0d\uc744 \uc218\ud589\ud558\uc5ec \uadf8 \uacb0\uacfc\ub97c \ub098\ud0c0\ub0b4\uace0 \uc65c \uc774\ub7ec\ud55c \uacb0\uacfc\uac00 \ub098\uc624\uac8c \ub418\uc5c8\ub294\uc9c0\uc5d0 \ub300\ud574 \uc124\uba85\uc744 \ud558\ub294 \uac83\uc785\ub2c8\ub2e4.\n",
      "</font>\n",
      "<br><br>"
     ]
    },
    {
     "cell_type": "markdown",
     "metadata": {},
     "source": [
      "<font size = 4pt><b>2. \ubcf8\ub860</b></font>"
     ]
    },
    {
     "cell_type": "markdown",
     "metadata": {},
     "source": [
      "<br>\n",
      "<font size = 3pt>\n",
      "\ubb38\uc81c 1\ubc88\uc740 \ub2e4\uc74c\uacfc \uac19\uc2b5\ub2c8\ub2e4.\n",
      "<br>\n",
      "<ul>\n",
      "    <li>\ud30c\uc77c s.txt \ub0b4\uc758 \ub2e4\uc74c \ub0b4\uc6a9\uacfc \ud568\uaed8 \uc544\ub798 \ubb38\uc81c\uc758 \ucf54\ub4dc\ub97c \uc81c\uc2dc\ud558\uc2dc\uc624.\n",
      "    <ul>\n",
      "        <pre>pig ham\n",
      "cat dog\n",
      "ham bird\n",
      "dog pig\n",
      "        </pre>\n",
      "    </ul>\n",
      "<br>\n",
      "    <li>1) \ud30c\uc77c s.txt\uc744 \uc77d\uc5b4\uc11c \uac01 \ub77c\uc778\ub4e4\uc5d0 \uc788\ub294 \uccab \ubc88\uc9f8 \ub2e8\uc5b4(\ubb38\uc790\uc5f4)\ub4e4\uc744 \uae30\uc900\uc73c\ub85c \ub77c\uc778\ubcc4 \uc815\ub82c\ud6c4 \ud30c\uc77c s1.txt\uc5d0 \uadf8 \uacb0\uacfc\ub97c \uae30\ub85d\ud558\ub294 \ucf54\ub4dc\ub97c \uc791\uc131\ud558\uc2dc\uc624. \uc989, \ud504\ub85c\uadf8\ub7a8 \uc218\ud589 \ud6c4 s1.txt\uc5d0 \uc788\ub294 \ub0b4\uc6a9\uc740 \ub2e4\uc74c\uacfc \uac19\ub2e4.\n",
      "    <ul>\n",
      "        <pre>cat dog\n",
      "dog pig\n",
      "ham bird\n",
      "pig ham\n",
      "        </pre>\n",
      "    </ul>\n",
      "<br>\n",
      "    <li>2) \ud30c\uc77c s.txt\uc744 \uc77d\uc5b4\uc11c \uac01 \ub77c\uc778\ub4e4\uc5d0 \uc788\ub294 \ub450 \ubc88\uc9f8 \ub2e8\uc5b4(\ubb38\uc790\uc5f4)\ub4e4\uc744 \uae30\uc900\uc73c\ub85c \ub77c\uc778\ubcc4 \uc815\ub82c\ud6c4 \ud30c\uc77c s2.txt\uc5d0 \uadf8 \uacb0\uacfc\ub97c \uae30\ub85d\ud558\ub294 \ucf54\ub4dc\ub97c \uc791\uc131\ud558\uc2dc\uc624. \uc989, \ud504\ub85c\uadf8\ub7a8 \uc218\ud589 \ud6c4 s2.txt\uc5d0 \uc788\ub294 \ub0b4\uc6a9\uc740 \ub2e4\uc74c\uacfc \uac19\ub2e4.\n",
      "    <ul>\n",
      "        <pre>ham bird\n",
      "cat dog\n",
      "pig ham\n",
      "dog pig\n",
      "        </pre>\n",
      "    </ul>\n",
      "<br>\n",
      "    <li>3) \ud30c\uc77c s.txt\uc744 \uc77d\uc5b4\uc11c \uac01 \ub77c\uc778\ub4e4\uc5d0 \uc788\ub294 \ubaa8\ub4e0 \ub2e8\uc5b4\ub4e4\uc744 \uc21c\ucc28\uc801\uc73c\ub85c \ub2e4\uc2dc \ub098\uc5f4\ud558\ub418 \uac01 \ub77c\uc778\uc5d0 \uc138 \uac1c\uc758 \ub2e8\uc5b4\ub4e4\uc774 \uc624\ub3c4\ub85d \ud558\uc5ec s3.txt\uc5d0 \uae30\ub85d\ud558\ub294 \ucf54\ub4dc\ub97c \uc791\uc131\ud558\uc2dc\uc624. \uc989, \ud504\ub85c\uadf8\ub7a8 \uc218\ud589 \ud6c4 s3.txt\uc5d0 \uc788\ub294 \ud30c\uc77c \ub0b4\uc6a9\uc740 \ub2e4\uc74c\uacfc \uac19\ub2e4.\n",
      "    <ul>\n",
      "        <pre>pig ham cat\n",
      "dog ham bird\n",
      "dog pig\n",
      "        </pre>\n",
      "    </ul>\n",
      "</ul>\n",
      "<br>\n",
      "\ubb38\uc81c 1-1 Source Code \ub294 \ub2e4\uc74c\uacfc \uac19\uc2b5\ub2c8\ub2e4.\n",
      "</font>"
     ]
    },
    {
     "cell_type": "code",
     "collapsed": false,
     "input": [
      "f_r = open('s.txt', 'r')\n",
      "\n",
      "s = f_r.readlines()\n",
      "\n",
      "ms_list = []\n",
      "\n",
      "for line in s :\n",
      "    temp = line.split()\n",
      "    ms_list.append(temp)\n",
      "\n",
      "for i in range(0, len(ms_list)) :\n",
      "    for j in range(i + 1, len(ms_list)) :\n",
      "        if (ms_list[i][0] > ms_list[j][0]) :\n",
      "            temp = ms_list[i]\n",
      "            ms_list[i] = ms_list[j]\n",
      "            ms_list[j] = temp\n",
      "\n",
      "f_w = open('s1.txt', 'w+')\n",
      "com_list = []\n",
      "\n",
      "for i in range(0, len(ms_list)) :\n",
      "    line = ms_list[i]\n",
      "\n",
      "    for j in range(0, len(line)) :\n",
      "        ms_str = line[j]\n",
      "\n",
      "        if (j == 0) :\n",
      "            com_str = ms_str;\n",
      "        else :\n",
      "            com_str = com_str + ' ' + ms_str;\n",
      "\n",
      "    com_list.append(com_str)\n",
      "\n",
      "f_w.write('\\n'.join(com_list))\n",
      "\n",
      "for line in com_list :\n",
      "    print line\n",
      "\n",
      "f_r.close()\n",
      "f_w.close()"
     ],
     "language": "python",
     "metadata": {},
     "outputs": [
      {
       "output_type": "stream",
       "stream": "stdout",
       "text": [
        "cat dog\n",
        "dog pig\n",
        "ham bird\n",
        "pig ham\n"
       ]
      }
     ],
     "prompt_number": 7
    },
    {
     "cell_type": "markdown",
     "metadata": {},
     "source": [
      "<br>\n",
      "<font size = 3pt>\n",
      "\ubb38\uc81c 1-2 Source Code\ub294 \ub2e4\uc74c\uacfc \uac19\uc2b5\ub2c8\ub2e4.</font>"
     ]
    },
    {
     "cell_type": "code",
     "collapsed": false,
     "input": [
      "f_r = open('s.txt', 'r')\n",
      "\n",
      "s = f_r.readlines()\n",
      "\n",
      "ms_list = []\n",
      "\n",
      "for line in s :\n",
      "    temp = line.split()\n",
      "    ms_list.append(temp)\n",
      "\n",
      "for i in range(0, len(ms_list)) :\n",
      "    for j in range(i + 1, len(ms_list)) :\n",
      "        if (ms_list[i][1] > ms_list[j][1]) :\n",
      "            temp = ms_list[i]\n",
      "            ms_list[i] = ms_list[j]\n",
      "            ms_list[j] = temp\n",
      "\n",
      "f_w = open('s2.txt', 'w+')\n",
      "com_list = []\n",
      "\n",
      "for i in range(0, len(ms_list)) :\n",
      "    line = ms_list[i]\n",
      "\n",
      "    for j in range(0, len(line)) :\n",
      "        ms_str = line[j]\n",
      "\n",
      "        if (j == 0) :\n",
      "            com_str = ms_str;\n",
      "        else :\n",
      "            com_str = com_str + ' ' + ms_str;\n",
      "\n",
      "    com_list.append(com_str)\n",
      "\n",
      "f_w.write('\\n'.join(com_list))\n",
      "\n",
      "for line in com_list :\n",
      "    print line\n",
      "\n",
      "f_r.close()\n",
      "f_w.close()"
     ],
     "language": "python",
     "metadata": {},
     "outputs": [
      {
       "output_type": "stream",
       "stream": "stdout",
       "text": [
        "ham bird\n",
        "cat dog\n",
        "pig ham\n",
        "dog pig\n"
       ]
      }
     ],
     "prompt_number": 8
    },
    {
     "cell_type": "markdown",
     "metadata": {},
     "source": [
      "<br>\n",
      "<font size = 3pt>\n",
      "\ubb38\uc81c 1-3 Source Code\ub294 \ub2e4\uc74c\uacfc \uac19\uc2b5\ub2c8\ub2e4.</font>"
     ]
    },
    {
     "cell_type": "code",
     "collapsed": false,
     "input": [
      "f_r = open('s.txt', 'r')\n",
      "\n",
      "s = f_r.readlines()\n",
      "\n",
      "ms_list = []\n",
      "\n",
      "for line in s :\n",
      "    temp = line.split()\n",
      "\n",
      "    for ms_str in temp :\n",
      "        ms_list.append(ms_str)\n",
      "\n",
      "count = 0\n",
      "\n",
      "com_list = []\n",
      "\n",
      "for ms_str in ms_list :\n",
      "    if (count == 0) :\n",
      "        com_str = ms_str\n",
      "    else :\n",
      "        com_str = com_str + ' ' + ms_str\n",
      "\n",
      "    count = count + 1\n",
      "\n",
      "    if(count == 3) :\n",
      "        count = 0\n",
      "        com_list.append(com_str)\n",
      "        com_str = ''\n",
      "\n",
      "com_list.append(com_str)\n",
      "\n",
      "f_w = open('s3.txt', 'w')\n",
      "\n",
      "f_w.write('\\n'.join(com_list))\n",
      "\n",
      "for line in com_list :\n",
      "    print line\n",
      "\n",
      "f_r.close()\n",
      "f_w.close()"
     ],
     "language": "python",
     "metadata": {},
     "outputs": [
      {
       "output_type": "stream",
       "stream": "stdout",
       "text": [
        "pig ham cat\n",
        "dog ham bird\n",
        "dog pig\n"
       ]
      }
     ],
     "prompt_number": 10
    },
    {
     "cell_type": "markdown",
     "metadata": {},
     "source": [
      "<br>\n",
      "<font size = 3pt>\n",
      "1\ubc88 \ubb38\uc81c\ub97c \ud574\uacb0\ud558\uae30 \uc704\ud574\uc11c \uba3c\uc800 \ud30c\uc77c\uc5d0\uc11c \ub77c\uc778\ubcc4\ub85c \uc77d\uc740 \ub4a4, \ub2e8\uc5b4\ub97c \ud558\ub098\uc758 \ub9ac\uc2a4\ud2b8\uc5d0 \ub123\uace0 \ubb38\uc81c\uc5d0\uc11c \uc6d0\ud558\ub294 \uacb0\uacfc\uc640 \uac19\uc774 \ucd9c\ub825\ub420 \uc218 \uc788\ub3c4\ub85d \ud558\uc600\uc2b5\ub2c8\ub2e4.\n",
      "<br>\n",
      "<br>\n",
      "<br>\n",
      "\ubb38\uc81c 2\ubc88\uc758 \uc18c\uc2a4\ucf54\ub4dc\ub294 \ub2e4\uc74c\uacfc \uac19\uc2b5\ub2c8\ub2e4.</font>"
     ]
    },
    {
     "cell_type": "code",
     "collapsed": false,
     "input": [
      "import sha\n",
      "\n",
      "print \"Welcome to Our Service\"\n",
      "print\n",
      "\n",
      "while True:\n",
      "    print \"1. Sign Up\"\n",
      "    print \"2. Sign In\"\n",
      "    print \"3. Quit\"\n",
      "    num = input(\"Input Number : \")\n",
      "    print\n",
      "\n",
      "    if (num == 1) :\n",
      "        f_w = open('access.txt', 'a')\n",
      "        f_r = open('access.txt', 'r')\n",
      "        \n",
      "        ID = raw_input(\"ID : \")\n",
      "\n",
      "        while True :\n",
      "            sw = 0\n",
      "                \n",
      "            while True :\n",
      "                line = f_r.readline()\n",
      "\n",
      "                while line :\n",
      "                    ms_str1 = line\n",
      "                    ms_str2 = ms_str1.replace(':', ' ')\n",
      "                    ms_str3 = ms_str2.replace(',', '')\n",
      "                    ms_list = ms_str3.split()\n",
      "\n",
      "                    compare_ID = ms_list[0]\n",
      "\n",
      "                    if (ID == compare_ID) :\n",
      "                        sw = 1\n",
      "                        break\n",
      "\n",
      "                    line = f_r.readline()\n",
      "                    \n",
      "                break\n",
      "\n",
      "            if (sw == 1) :\n",
      "                print \"Sorry, the entered ID is already used.\"\n",
      "                print\n",
      "                ID = raw_input(\"ID : \")\n",
      "            else :\n",
      "                break\n",
      "        \n",
      "        PassWord_plain = raw_input(\"PassWord : \")\n",
      "        Name = raw_input(\"Name : \")\n",
      "        School = raw_input(\"School : \")\n",
      "\n",
      "        PassWord_encrypted = sha.new(PassWord_plain).hexdigest()\n",
      "        com_str = ID + ':' + PassWord_encrypted + ', ' + Name + ', ' + School\n",
      "\n",
      "        f_w.write(com_str)\n",
      "        f_w.write('\\n')\n",
      "\n",
      "        f_r.close()\n",
      "        f_w.close()\n",
      "\n",
      "    if (num == 2) :\n",
      "        ID = raw_input(\"ID : \")\n",
      "\n",
      "        while True :\n",
      "            f_r = open('access.txt', 'r')\n",
      "            sw = 0\n",
      "            \n",
      "            while True :\n",
      "                line = f_r.readline()\n",
      "\n",
      "                while line :\n",
      "                    ms_str1 = line\n",
      "                    ms_str2 = ms_str1.replace(':', ' ')\n",
      "                    ms_str3 = ms_str2.replace(',', '')\n",
      "                    ms_list = ms_str3.split()\n",
      "\n",
      "                    compare_ID = ms_list[0]\n",
      "\n",
      "                    if (ID == compare_ID) :\n",
      "                        sw = 1\n",
      "                        break\n",
      "\n",
      "                    line = f_r.readline()\n",
      "\n",
      "                break\n",
      "\n",
      "            if(sw == 1) :\n",
      "                break\n",
      "            else :\n",
      "                print \"Sorry, you are not a registered member.\"\n",
      "                print\n",
      "                ID = raw_input(\"ID : \")\n",
      "                \n",
      "        f_r.close()\n",
      "\n",
      "        PassWord_plain = raw_input(\"PassWord : \")\n",
      "        PassWord_encrypted = sha.new(PassWord_plain).hexdigest()\n",
      "\n",
      "        while True :\n",
      "            f_r = open('access.txt', 'r')\n",
      "            sw = 0\n",
      "              \n",
      "            while True :\n",
      "                line = f_r.readline()\n",
      "\n",
      "                while line :\n",
      "                    ms_str1 = line\n",
      "                    ms_str2 = ms_str1.replace(':', ' ')\n",
      "                    ms_str3 = ms_str2.replace(',', '')\n",
      "                    ms_list = ms_str3.split()\n",
      "\n",
      "                    compare_PW = ms_list[1]\n",
      "\n",
      "                    if (PassWord_encrypted == compare_PW) :\n",
      "                        sw = 1\n",
      "                        break\n",
      "\n",
      "                    line = f_r.readline()\n",
      "\n",
      "                break\n",
      "\n",
      "            if(sw == 1) :\n",
      "                break\n",
      "            else :\n",
      "                print \"Sorry, the entered password is not correct.\"\n",
      "                print\n",
      "                PassWord_plain = raw_input(\"PassWord : \")\n",
      "                PassWord_encrypted = sha.new(PassWord_plain).hexdigest()\n",
      "\n",
      "        f_r.close()\n",
      "        \n",
      "        f_r = open('access.txt', 'r')\n",
      "        \n",
      "        while True :\n",
      "            line = f_r.readline()\n",
      "\n",
      "            sw = 0\n",
      "            while line :\n",
      "                ms_str1 = line\n",
      "                ms_str2 = ms_str1.replace(':', ' ')\n",
      "                ms_str3 = ms_str2.replace(',', '')\n",
      "                ms_list = ms_str3.split()\n",
      "\n",
      "                compare_ID = ms_list[0]\n",
      "                compare_PW = ms_list[1]\n",
      "\n",
      "                if (ID == compare_ID and PassWord_encrypted == compare_PW) :\n",
      "                    name = ms_list[2]\n",
      "                    sw = 1\n",
      "                    break\n",
      "\n",
      "                line = f_r.readline()\n",
      "\n",
      "            if (sw == 1) :\n",
      "                break\n",
      "\n",
      "        print\n",
      "        print \"Hello \" + name\n",
      "\n",
      "        f_r.close()\n",
      "        \n",
      "    if (num == 3) :\n",
      "        print \"Thank you for using our Service!\"\n",
      "        break\n",
      "\n",
      "    print"
     ],
     "language": "python",
     "metadata": {},
     "outputs": [
      {
       "output_type": "stream",
       "stream": "stdout",
       "text": [
        "Welcome to Our Service\n",
        "\n",
        "1. Sign Up\n",
        "2. Sign In\n",
        "3. Quit\n"
       ]
      },
      {
       "name": "stdout",
       "output_type": "stream",
       "stream": "stdout",
       "text": [
        "Input Number : 1\n"
       ]
      },
      {
       "output_type": "stream",
       "stream": "stdout",
       "text": [
        "\n"
       ]
      },
      {
       "name": "stdout",
       "output_type": "stream",
       "stream": "stdout",
       "text": [
        "ID : sehands\n"
       ]
      },
      {
       "name": "stdout",
       "output_type": "stream",
       "stream": "stdout",
       "text": [
        "PassWord : beat4207\n"
       ]
      },
      {
       "name": "stdout",
       "output_type": "stream",
       "stream": "stdout",
       "text": [
        "Name : SeHan\n"
       ]
      },
      {
       "name": "stdout",
       "output_type": "stream",
       "stream": "stdout",
       "text": [
        "School : KoreaTech\n"
       ]
      },
      {
       "output_type": "stream",
       "stream": "stdout",
       "text": [
        "\n",
        "1. Sign Up\n",
        "2. Sign In\n",
        "3. Quit\n"
       ]
      },
      {
       "name": "stdout",
       "output_type": "stream",
       "stream": "stdout",
       "text": [
        "Input Number : 1\n"
       ]
      },
      {
       "output_type": "stream",
       "stream": "stdout",
       "text": [
        "\n"
       ]
      },
      {
       "name": "stdout",
       "output_type": "stream",
       "stream": "stdout",
       "text": [
        "ID : sehands\n"
       ]
      },
      {
       "output_type": "stream",
       "stream": "stdout",
       "text": [
        "Sorry, the entered ID is already used.\n",
        "\n"
       ]
      },
      {
       "name": "stdout",
       "output_type": "stream",
       "stream": "stdout",
       "text": [
        "ID : dltpgks01\n"
       ]
      },
      {
       "name": "stdout",
       "output_type": "stream",
       "stream": "stdout",
       "text": [
        "PassWord : 1234\n"
       ]
      },
      {
       "name": "stdout",
       "output_type": "stream",
       "stream": "stdout",
       "text": [
        "Name : Lee\n"
       ]
      },
      {
       "name": "stdout",
       "output_type": "stream",
       "stream": "stdout",
       "text": [
        "School : KoreaTech\n"
       ]
      },
      {
       "output_type": "stream",
       "stream": "stdout",
       "text": [
        "\n",
        "1. Sign Up\n",
        "2. Sign In\n",
        "3. Quit\n"
       ]
      },
      {
       "name": "stdout",
       "output_type": "stream",
       "stream": "stdout",
       "text": [
        "Input Number : 2\n"
       ]
      },
      {
       "output_type": "stream",
       "stream": "stdout",
       "text": [
        "\n"
       ]
      },
      {
       "name": "stdout",
       "output_type": "stream",
       "stream": "stdout",
       "text": [
        "ID : sehands\n"
       ]
      },
      {
       "name": "stdout",
       "output_type": "stream",
       "stream": "stdout",
       "text": [
        "PassWord : beat\n"
       ]
      },
      {
       "output_type": "stream",
       "stream": "stdout",
       "text": [
        "Sorry, the entered password is not correct.\n",
        "\n"
       ]
      },
      {
       "name": "stdout",
       "output_type": "stream",
       "stream": "stdout",
       "text": [
        "PassWord : beat4207\n"
       ]
      },
      {
       "output_type": "stream",
       "stream": "stdout",
       "text": [
        "\n",
        "Hello SeHan\n",
        "\n",
        "1. Sign Up\n",
        "2. Sign In\n",
        "3. Quit\n"
       ]
      },
      {
       "name": "stdout",
       "output_type": "stream",
       "stream": "stdout",
       "text": [
        "Input Number : 2\n"
       ]
      },
      {
       "output_type": "stream",
       "stream": "stdout",
       "text": [
        "\n"
       ]
      },
      {
       "name": "stdout",
       "output_type": "stream",
       "stream": "stdout",
       "text": [
        "ID : dltp\n"
       ]
      },
      {
       "output_type": "stream",
       "stream": "stdout",
       "text": [
        "Sorry, you are not a registered member.\n",
        "\n"
       ]
      },
      {
       "name": "stdout",
       "output_type": "stream",
       "stream": "stdout",
       "text": [
        "ID : se\n"
       ]
      },
      {
       "output_type": "stream",
       "stream": "stdout",
       "text": [
        "Sorry, you are not a registered member.\n",
        "\n"
       ]
      },
      {
       "name": "stdout",
       "output_type": "stream",
       "stream": "stdout",
       "text": [
        "ID : dltpgks01\n"
       ]
      },
      {
       "name": "stdout",
       "output_type": "stream",
       "stream": "stdout",
       "text": [
        "PassWord : 123\n"
       ]
      },
      {
       "output_type": "stream",
       "stream": "stdout",
       "text": [
        "Sorry, the entered password is not correct.\n",
        "\n"
       ]
      },
      {
       "name": "stdout",
       "output_type": "stream",
       "stream": "stdout",
       "text": [
        "PassWord : 1234\n"
       ]
      },
      {
       "output_type": "stream",
       "stream": "stdout",
       "text": [
        "\n",
        "Hello Lee\n",
        "\n",
        "1. Sign Up\n",
        "2. Sign In\n",
        "3. Quit\n"
       ]
      },
      {
       "name": "stdout",
       "output_type": "stream",
       "stream": "stdout",
       "text": [
        "Input Number : 3\n"
       ]
      },
      {
       "output_type": "stream",
       "stream": "stdout",
       "text": [
        "\n",
        "Thank you for using our Service!\n"
       ]
      }
     ],
     "prompt_number": 1
    },
    {
     "cell_type": "markdown",
     "metadata": {},
     "source": [
      "<font size = 3pt>\n",
      "\ubb38\uc81c 2\ubc88\uc758 \uacb0\uacfc\ub294 \ub2e4\uc74c\uacfc \uac19\uc774 \ub098\ud0c0\ub098\uac8c \ub429\ub2c8\ub2e4.\n",
      "<br>\n",
      "<br>\n",
      "sehands:641457320716d02fa702bee9ca5df14f97c912c0, SeHan, KoreaTech<br>\n",
      "dltpgks01:7110eda4d09e062aa5e4a390b0a572ac0d2c0220, Lee, KoreaTech<br>\n",
      "<br>\n",
      "\uc81c\ub300\ub85c \ud30c\uc77c\uc5d0 \ucd9c\ub825\uc774 \ub418\uba70 \uc774\ub97c \ud1a0\ub300\ub85c \ud504\ub85c\uadf8\ub7a8 \uc0c1\uc5d0\uc11c \ub3d9\uc791\uc774 \uc218\ud589\ub418\ub294 \uac83\uc744 \ud655\uc778\ud558\uc2e4 \uc218 \uc788\uc2b5\ub2c8\ub2e4.\n",
      "<br>\n",
      "<br>\n",
      "<br>\n",
      "\ubb38\uc81c 3\ubc88\uc758 \uc18c\uc2a4\ucf54\ub4dc\ub294 \ub2e4\uc74c\uacfc \uac19\uc2b5\ub2c8\ub2e4.</font>"
     ]
    },
    {
     "cell_type": "code",
     "collapsed": false,
     "input": [
      "def frange(stop, start = 0, step = 0.1) :\n",
      "    if (stop < start) :\n",
      "        stop, start = start, stop\n",
      "        \n",
      "    temp = start\n",
      "    \n",
      "    while (temp < stop) :\n",
      "        print \"%.1f\" % temp\n",
      "        temp += step\n",
      "\n",
      "frange(0.5)\n",
      "print\n",
      "frange(1.0, 2.0)\n",
      "print\n",
      "frange(2.2, 4.0, 0.2)"
     ],
     "language": "python",
     "metadata": {},
     "outputs": [
      {
       "output_type": "stream",
       "stream": "stdout",
       "text": [
        "0.0\n",
        "0.1\n",
        "0.2\n",
        "0.3\n",
        "0.4\n",
        "\n",
        "1.0\n",
        "1.1\n",
        "1.2\n",
        "1.3\n",
        "1.4\n",
        "1.5\n",
        "1.6\n",
        "1.7\n",
        "1.8\n",
        "1.9\n",
        "\n",
        "2.2\n",
        "2.4\n",
        "2.6\n",
        "2.8\n",
        "3.0\n",
        "3.2\n",
        "3.4\n",
        "3.6\n",
        "3.8\n"
       ]
      }
     ],
     "prompt_number": 2
    },
    {
     "cell_type": "markdown",
     "metadata": {},
     "source": [
      "<font size = 3pt>\n",
      "\uacb0\uacfc\uac00 \uc81c\ub300\ub85c \ub098\uc624\ub294 \uac83\uc744 \ud655\uc778\ud558\uc2e4 \uc218 \uc788\uc2b5\ub2c8\ub2e4. \ud568\uc218 \ub0b4\uc5d0\uc11c stop\uacfc start\ub97c \ube44\uad50\ud558\uc5ec \ubc14\uafb8\ub294 \uc774\uc720\ub294 \ub450 \uac1c \uc774\uc0c1\uc758 \uac12\uc744 \ubc1b\uc544\uc11c \ucc98\ub9ac\ub97c \ud560 \ub54c\ub294 \uccab\ubc88\uc9f8 \uac12\uc774 start\uc774\uace0 \ub450\ubc88\uc9f8 \uac12\uc774 stop\uc774 \ub418\uc5b4\uc57c \ud558\uae30 \ub54c\ubb38\uc5d0 \ub450 \uac12\uc744 \ubc14\uafd4\uc8fc\uc5c8\uc2b5\ub2c8\ub2e4.\n",
      "<br>\n",
      "<br>\n",
      "<br>\n",
      "\ubb38\uc81c 4\ubc88\uc758 \uc18c\uc2a4\ucf54\ub4dc\ub294 \ub2e4\uc74c\uacfc \uac19\uc2b5\ub2c8\ub2e4.\n",
      "</font>"
     ]
    },
    {
     "cell_type": "code",
     "collapsed": false,
     "input": [
      "def fsum(*arg) :\n",
      "    arg_len = len(arg)\n",
      "\n",
      "    hap = 0\n",
      "    for i in range(0, arg_len) :\n",
      "        hap += arg[i]\n",
      "\n",
      "    print hap\n",
      "\n",
      "fsum()\n",
      "print\n",
      "fsum(1,2)\n",
      "print\n",
      "fsum(1,2,3,4,5)\n",
      "print\n",
      "fsum(1,5,7,2,-10)"
     ],
     "language": "python",
     "metadata": {},
     "outputs": [
      {
       "output_type": "stream",
       "stream": "stdout",
       "text": [
        "0\n",
        "\n",
        "3\n",
        "\n",
        "15\n",
        "\n",
        "5\n"
       ]
      }
     ],
     "prompt_number": 3
    },
    {
     "cell_type": "markdown",
     "metadata": {},
     "source": [
      "<font size = 3pt>\n",
      "\uacb0\uacfc\uac00 \uc81c\ub300\ub85c \ub098\uc624\ub294 \uac83\uc744 \ud655\uc778\ud558\uc2e4 \uc218 \uc788\uc2b5\ub2c8\ub2e4.\n",
      "<br>\n",
      "<br>\n",
      "<br>\n",
      "\ubb38\uc81c 5\ubc88\uc758 \uc18c\uc2a4\ucf54\ub4dc\ub294 \ub2e4\uc74c\uacfc \uac19\uc2b5\ub2c8\ub2e4.\n",
      "</font>"
     ]
    },
    {
     "cell_type": "code",
     "collapsed": false,
     "input": [
      "def myinitial(string) :\n",
      "    temp_string = string.split()\n",
      "    temp_list = map(lambda x : x[0].upper(), temp_string)\n",
      "\n",
      "    print \"\".join(temp_list)\n",
      "\n",
      "myinitial(\"as soon as possible\")"
     ],
     "language": "python",
     "metadata": {},
     "outputs": [
      {
       "output_type": "stream",
       "stream": "stdout",
       "text": [
        "ASAP\n"
       ]
      }
     ],
     "prompt_number": 4
    },
    {
     "cell_type": "markdown",
     "metadata": {},
     "source": [
      "<font size = 3pt>\n",
      "\uacb0\uacfc\uac00 \uc81c\ub300\ub85c \ub098\uc624\ub294 \uac83\uc744 \ud655\uc778\ud558\uc2e4 \uc218 \uc788\uc2b5\ub2c8\ub2e4.\n",
      "<br>\n",
      "\ud568\uc218\ub97c \uad6c\ud604\ud560 \ub54c, \uac01 \ub2e8\uc5b4 \ub9ac\uc2a4\ud2b8\ub97c \uc5bb\uc744 \uc218 \uc788\ub3c4\ub85d split() \ud568\uc218\ub97c \uc774\uc6a9\ud558\uc600\uc73c\uba70, \uac01 \ub2e8\uc5b4 \uccab \uae00\uc790\uc758 \ub300\ubb38\uc790\ub97c \uc5bb\uae30 \uc704\ud574 lambda \ud568\uc218\ub97c \uc774\uc6a9\ud558\uc5ec \uad6c\ud604\ud558\uc600\uc2b5\ub2c8\ub2e4.\n",
      "<br>\n",
      "<br>\n",
      "<br>\n",
      "\ubb38\uc81c 6\ubc88\uc758 \uc18c\uc2a4\ucf54\ub4dc\ub294 \ub2e4\uc74c\uacfc \uac19\uc2b5\ub2c8\ub2e4.\n",
      "</font>"
     ]
    },
    {
     "cell_type": "code",
     "collapsed": false,
     "input": [
      "def myfact(n) :\n",
      "    if (n < 0) :\n",
      "        return \"This is not a positive number.\"\n",
      "\n",
      "    if (n == 0) :\n",
      "        return \"I Can't calculate this number.\"\n",
      "\n",
      "    if (n == 1) :\n",
      "        return 1\n",
      "\n",
      "    return n * myfact(n - 1)\n",
      "\n",
      "print myfact(-1)\n",
      "print myfact(0)\n",
      "print myfact(5)"
     ],
     "language": "python",
     "metadata": {},
     "outputs": [
      {
       "output_type": "stream",
       "stream": "stdout",
       "text": [
        "This is not a positive number.\n",
        "I Can't calculate this number.\n",
        "120\n"
       ]
      }
     ],
     "prompt_number": 5
    },
    {
     "cell_type": "markdown",
     "metadata": {},
     "source": [
      "<font size = 3pt>\n",
      "\uacb0\uacfc\uac00 \uc81c\ub300\ub85c \ub098\uc624\ub294 \uac83\uc744 \ud655\uc778\ud558\uc2e4 \uc218 \uc788\uc2b5\ub2c8\ub2e4.\n",
      "<br>\n",
      "\ud568\uc218\ub97c \uad6c\ud604\ud560 \ub54c \uc74c\uc218\uc640 0\uc744 \uc785\ub825\ubc1b\uc558\uc744 \ub54c\uc5d0\ub3c4 \ucc98\ub9ac\ub97c \ud560 \uc218 \uc788\ub3c4\ub85d \uad6c\ud604\ud558\uc600\uc2b5\ub2c8\ub2e4.\n",
      "<br>\n",
      "<br>\n",
      "<br>\n",
      "\ub2e4\uc74c\uc740 \ubb38\uc81c 7\ubc88\uc5d0 \uad00\ub828\ub41c \ub2f5\uc548\uc785\ub2c8\ub2e4.\n",
      "<br>\n",
      "import string \uc740 string \uc774\ub984 \uacf5\uac04\uc774 \uadf8\ub300\ub85c \uc720\uc9c0\ub418\uba70 string.translate()\uc640 \uac19\uc740 \ud615\ud0dc\ub85c \uc790\uaca9 \uc774\ub984\uc73c\ub85c \uc0ac\uc6a9\uc744 \ud560 \uc218 \uc788\uc2b5\ub2c8\ub2e4. \uc989, \uc774\ub984 \uacf5\uac04 \uc804\uccb4\ub97c \ubaa8\ub450 \uac00\uc838\uc640\uc11c \uc0ac\uc6a9\ud560 \uc218 \uc788\ub294 \uac83\uc785\ub2c8\ub2e4. from string import * \uc740 string\uc5d0 \uc874\uc7ac\ud558\ub294 '_'\ub85c \uc2dc\uc791\ub418\ub294 \uc774\ub984\ub4e4\uc744 \uc81c\uc678\ud55c \ubaa8\ub4e0 \uc774\ub984\ub4e4\uc744 \ud604\uc7ac \uc774\ub984 \uacf5\uac04\uc73c\ub85c \ubd88\ub7ec\ub4e4\uc785\ub2c8\ub2e4. \uacb0\uad6d \uc774\ub984 \uacf5\uac04\uc758 \ub0b4\ubd80 \uc694\uc18c\ub9cc\uc744 \uc0ac\uc6a9\ud560 \uc218 \uc788\uac8c \ub429\ub2c8\ub2e4.\n",
      "<br>\n",
      "<br>\n",
      "<br>\n",
      "\ubb38\uc81c 8\ubc88\uc758 \uc18c\uc2a4\ucf54\ub4dc\ub294 \ub2e4\uc74c\uacfc \uac19\uc2b5\ub2c8\ub2e4.\n",
      "</font>"
     ]
    },
    {
     "cell_type": "code",
     "collapsed": false,
     "input": [
      "import urllib\n",
      "import string\n",
      "import pickle\n",
      "\n",
      "url = raw_input(\"Input URL : \")\n",
      "\n",
      "temp_url = url.strip('http://')\n",
      "\n",
      "url_file_name = temp_url + '.html'\n",
      "\n",
      "s = urllib.urlopen(url).read()\n",
      "\n",
      "f_w = open(url_file_name, 'w')\n",
      "\n",
      "f_w.write(s)\n",
      "\n",
      "f_w.close()\n",
      "\n",
      "s.lower()\n",
      "\n",
      "while(True) :\n",
      "        start = -1\n",
      "        finish = -1\n",
      "\n",
      "        start = s.find('<script')\n",
      "        finish = s.find('</script')\n",
      "\n",
      "        if(start == -1 and finish == -1) :\n",
      "                break\n",
      "        else :\n",
      "                s = s[:start] + ' ' + s[finish + 9:]\n",
      "\n",
      "while(True) :\n",
      "        start = -1\n",
      "        finish = -1\n",
      "\n",
      "        start = s.find('<style')\n",
      "        finish = s.find('</style')\n",
      "\n",
      "        if(start == -1 and finish == -1) :\n",
      "                break\n",
      "        else :\n",
      "                s = s[:start] + ' ' + s[finish + 8:]\n",
      "\n",
      "while(True) :\n",
      "        start = -1\n",
      "        finish = -1\n",
      "\n",
      "        start = s.find('<')\n",
      "        finish = s.find('>')\n",
      "\n",
      "        if(start == -1 and finish == -1) :\n",
      "                break\n",
      "        else :\n",
      "                s = s[:start] + ' ' + s[finish + 1:]\n",
      "\n",
      "words = s.split()\n",
      "\n",
      "words_dic = {}\n",
      "\n",
      "for word in words :\n",
      "    word = word.translate(string.maketrans('',''), string.punctuation).strip()\n",
      "\n",
      "    if word != '' :\n",
      "        if word in words_dic :\n",
      "            words_dic[word] += 1\n",
      "        else :\n",
      "            words_dic[word] = 1\n",
      "\n",
      "for key in words_dic :\n",
      "    print key, words_dic[key]\n",
      "\n",
      "words_file_name = temp_url + '.words.frequency'\n",
      "\n",
      "try :\n",
      "    with open(words_file_name, 'wb') as f_w :\n",
      "        pickle.dump(words_dic, f_w)\n",
      "except IOError as err :\n",
      "    print 'File Error: ' + str(err)\n",
      "except pickle.PickleError as perr :\n",
      "    print 'Pickling error: ' + str(perr)\n",
      "\n",
      "f_w.close()"
     ],
     "language": "python",
     "metadata": {},
     "outputs": [
      {
       "name": "stdout",
       "output_type": "stream",
       "stream": "stdout",
       "text": [
        "Input URL : http://cse.koreatech.ac.kr\n"
       ]
      },
      {
       "output_type": "stream",
       "stream": "stdout",
       "text": [
        "\uc785\uc2dcQA 1\n",
        "\ud559\ubd80\uc0ac\uc9c4\uac94\ub7ec\ub9ac 1\n",
        "\ucef4\ud4e8\ud130\uc2dc\uc2a4\ud15c\uc751\uc6a9 1\n",
        "\uacf5\ub3d9 1\n",
        "\ud2b9\uc131\ud654 8\n",
        "\ud55c\uad6d\ud615 1\n",
        "nbsp 1\n",
        "20141020 1\n",
        "\uacf5\uc9c0\uc0ac\ud56d 1\n",
        "2013\ub144 1\n",
        "E2FEST 1\n",
        "20141119 2\n",
        "\uc5f0\uad6c\uc2e4\uc18c\uac1c 1\n",
        "\ubaa8\uc9d1\uc694\uac15 1\n",
        "\ucf64\ud14d\uc2dc\uc2a4\ud15c 1\n",
        "20141112 1\n",
        "20141118 3\n",
        "2014 1\n",
        "20141031 1\n",
        "\uc7a5\ud559\uae08 1\n",
        "TOEIC 1\n",
        "\uc544\uc774\ub514\uc5b4 2\n",
        "\ud50c\ub7ab\ud3fc 1\n",
        "\ubaa8\uc9d1 3\n",
        "\ud574\ud0b9\ubcf4\uc548 1\n",
        "\uc2e0\uc785\uc0ac\uc6d0 1\n",
        "\uac15\uc758\uc790\ub8cc\uc2e4 1\n",
        "Spe 1\n",
        "20140327 1\n",
        "\uc878\uc5c5\uc791\ud488 2\n",
        "Festival 1\n",
        "2015\ub144 1\n",
        "\ub3d9\ubb38\uac8c\uc2dc\ud310 1\n",
        "\uac1c\ubc1c\uc790 1\n",
        "\uc9c0\uc0c1\ud30c 2\n",
        "\ub514\uc9c0\ud138 1\n",
        "20131007 1\n",
        "\uc591\uc790\uc815\ubcf4\ud1b5\uc2e0 1\n",
        "\uc0ac\ub0b4 1\n",
        "IT\uc735\ud569 2\n",
        "\uae30\uc9c0\uad6d 1\n",
        "\uad50\uc218\uc9c4 1\n",
        "\uc218\uc815 1\n",
        "OPIc 1\n",
        "\uc7ac\uc1a1\uc2e0\ub8cc 1\n",
        "\ud559\uc0dd\ud68c 1\n",
        "\ub300\ud3ed 1\n",
        "4\ub300 1\n",
        "C 1\n",
        "\ud22c\ud45c 1\n",
        "\uc878\uc5c5\uc608\uc815\uc790 1\n",
        "2014\ub144 1\n",
        "\ud574\uc124\uc0bc\uc131\ud604\ub300\ucc28 1\n",
        "\ud3ec\uc2a4\ud130\ubc1c\ud45c\uacbd\uc9c4\ub300\ud68c 1\n",
        "\uc778\uc0c1 1\n",
        "\uc0ac\uc9c4\uac8c\uc2dc\ud310 1\n",
        "\uacf5\ud559\uc778\uc99d\uc548\ub0b4 1\n",
        "\ucef4\ud4e8\ud130SW 1\n",
        "1\ud68c 1\n",
        "\uad50\uc721\ubaa9\ud45c 1\n",
        "20120909 1\n",
        "20141124 8\n",
        "\uc804\uc6d0\uacf5\uc6a9\ud654 1\n",
        "\ucde8\uc5c5\uc870\uc0ac2013 1\n",
        "1\ud559\ub144 1\n",
        "\ucde8\uc5c5\uc870\uc0ac2014 1\n",
        "\uc775\uba85\uac8c\uc2dc\ud310 1\n",
        "\ud504\ub85c\uadf8\ub7a8 1\n",
        "\ucc3e\uc544\uc624\uc2dc\ub294\uae38 1\n",
        "20121105 1\n",
        "13rh 1\n",
        "\uc7a5\ud559\uc81c\ub3c4 1\n",
        "\ud648\ud398\uc774\uc9c0 1\n",
        "\ucde8\uc5c5\uac8c\uc2dc\ud310 1\n",
        "\ud574\uc678\uae30\uc220\ubd09\uc0ac 1\n",
        "2015\ud559\ub144\ub3c4 1\n",
        "2 1\n",
        "\ucc44\uc6a9\uc5f0\uacc4\ud615 1\n",
        "\ud559\ud68c\uc7a5\ubd80\ud559 2\n",
        "20141014 3\n",
        "20141016 1\n",
        "VoD 1\n",
        "\ub300\ud559\uc6d0 1\n",
        "\uc124\uacc41 1\n",
        "\uc790\uc720\uac8c\uc2dc\ud310 1\n",
        "\uc8fc\ucf5c\ub7ec\ub178\ube44\ud0c0 1\n",
        "\uacbd\uc9c4\ub300 2\n",
        "\uc878\uc5c5\uc2dc\ud5d8 1\n",
        "\uc548\ub0b4 1\n",
        "\ucc38\uc11d 1\n",
        "Hacking 1\n",
        "\ub300\ud559\uc6d0\uc18c\uac1c 1\n",
        "\uc5ed\ub7c9\uac15\ud654 1\n",
        "\uc77c\ubcf8 1\n",
        "20141121 2\n",
        "20141120 2\n",
        "\uc2dc\uc2a4\ud15c 1\n",
        "\uc138 1\n",
        "6\ub300 1\n",
        "\ucef4\ud4e8\ud130HW 1\n",
        "\uc11c\uc2dd\ubc0f\uc591\uc2dd\uc790\ub8cc\uc2e4 1\n",
        "\ucef4\ud4e8\ud130\uacf5\ud559\ubd80 4\n",
        "2\uc6d4 1\n",
        "Toeic 1\n",
        "\uc2e0\uccad 1\n",
        "\uc2e4\uc2b5\uc870\uad50 1\n",
        "RampD 1\n",
        "\uce74\ud1a1 1\n",
        "\ucd94\uac00 1\n",
        "\ub300\ud559\uc6d0\uac8c\uc2dc\ud310 1\n",
        "20140924 1\n",
        "20131210 1\n",
        "\uc2dc\ub3d9 1\n",
        "\ud55c\u00b7\ubbf8 1\n",
        "\ud544\uc218 1\n",
        "\ub3c4 1\n",
        "1 1\n",
        "\uc81c 2\n",
        "\ud544\ub3c5 1\n",
        "\uc77c\ubc18\uc790\ub8cc\uc2e4 1\n",
        "\ub300\uac00 1\n",
        "3\ud559\ub144 1\n",
        "\uacf5\ud559\uc778\uc99d\uac8c\uc2dc\ud310 1\n",
        "HUST 1\n",
        "Tmoney\ud55c\uad6d\uc2a4\ub9c8\ud2b8\uce74\ub4dc 1\n",
        "\ube0c\ub85c\uc154 1\n",
        "\uc878\uc5c5\uc774\uc218\uc694\uac74 1\n",
        "\uacf5\ud559\uc124\uacc4 2\n",
        "\ucef4\ud4e8\ud130\uc2a4\ub9c8\ud2b8IT 1\n",
        "\uace0\uc7a5\uc2e0\uace0\uac8c\uc2dc\ud310 1\n",
        "Specialist\uc81c 1\n",
        "\uc774\ud1b5 1\n",
        "\ucc44\uc6a9 1\n",
        "LG\ud788\ub2e4\ucc0c\uc8fc 1\n",
        "\uc778\ud134\uc2ed 1\n",
        "quotMOTPSM\ud074\ub7ec 1\n",
        "\ubb3c 1\n",
        "3\uc0ac 1\n"
       ]
      }
     ],
     "prompt_number": 6
    },
    {
     "cell_type": "markdown",
     "metadata": {},
     "source": [
      "<font size = 3pt>\n",
      "\uc815\ubcf4\ub97c \uac00\uc838\uc624\uace0 \uc2f6\uc740 URL\uc744 \uc785\ub825\ud558\uba74 \ud574\ub2f9 \uc18c\uc2a4\ucf54\ub4dc\ub97c \uac00\uc838\uc640\uc11c \uc815\ud655\ud788 \ub2e8\uc5b4\ub97c \ucd94\ucd9c\ud574\uc11c \ucd9c\ub825\ud558\ub294 \uac83\uc744 \ud655\uc778\ud558\uc2e4 \uc218 \uc788\uc2b5\ub2c8\ub2e4. \ubb38\uc81c 8\ubc88\uc758 3) \ubb38\uc81c\ub97c \uc704\ud574 \uc785\ub825\ud55c URL\uc740 \"http://codeengn.com\", \"http://cse.koreatech.ac.kr\", \"http://seed.koreatech.ac.kr\", \"http://www.owasp.org\", \"http://www.wowhacker.org\" \uc785\ub2c8\ub2e4. \ub610\ud55c \uc18c\uc2a4 \ucf54\ub4dc\ub97c html\ud30c\uc77c\ub85c \uc800\uc7a5\ud558\uae30 \uc704\ud574 \uba3c\uc800 url \uc5d0\uc11c \"http://\" \ub97c \ube80 \ub098\uba38\uc9c0 \ubb38\uc790\uc5f4\uc744 \uc774\uc6a9\ud558\uc5ec \ud30c\uc77c\uc774\ub984\uc744 \ub9cc\ub4e0 \ub4a4, \uc800\uc7a5\ud558\uc600\uc2b5\ub2c8\ub2e4. \uadf8\ub9ac\uace0 \ub2e8\uc5b4\uc758 \ucd9c\ud604\ube48\ub3c4\ub97c \uc800\uc7a5\ud560 \ub54c\uc5d0\ub294 \ud53c\ud074\ub9c1(pickling) \uae30\ubc95\uc744 \uc774\uc6a9\ud558\uc5ec \uc800\uc7a5\uc744 \ud558\uc600\uc2b5\ub2c8\ub2e4.\n",
      "<br>\n",
      "<br>\n",
      "<br>\n",
      "\ubb38\uc81c 9\ubc88\uc758 \uc18c\uc2a4\ucf54\ub4dc\ub294 \ub2e4\uc74c\uacfc \uac19\uc2b5\ub2c8\ub2e4.\n",
      "</font>"
     ]
    },
    {
     "cell_type": "code",
     "collapsed": false,
     "input": [
      "import pickle\n",
      "f_1 = {}\n",
      "f_2 = {}\n",
      "f_3 = {}\n",
      "f_4 = {}\n",
      "f_5 = {}\n",
      "\n",
      "max_frequency = -999\n",
      "\n",
      "f_r_1 = {}\n",
      "f_r_2 = {}\n",
      "f_r_3 = {}\n",
      "f_r_4 = {}\n",
      "f_r_5 = {}\n",
      "try :\n",
      "    with open('codeengn.com.words.frequency', 'rb') as f_1, open('cse.koreatech.ac.kr.words.frequency', 'rb') as f_2, open('seed.koreatech.ac.kr.words.frequency', 'rb') as f_3, open('www.owasp.org.words.frequency', 'rb') as f_4, open('www.wowhacker.org.words.frequency', 'rb') as f_5:\n",
      "             f_r_1 = pickle.load(f_1)\n",
      "             f_r_2 = pickle.load(f_2)\n",
      "             f_r_3 = pickle.load(f_3)\n",
      "             f_r_4 = pickle.load(f_4)\n",
      "             f_r_5 = pickle.load(f_5)\n",
      "\n",
      "    for key_1 in f_r_1 :\n",
      "        if (max_frequency < f_r_1[key_1]) :\n",
      "            max_frequency = f_r_1[key_1]\n",
      "            max_frequency_string = key_1\n",
      "            max_frequency_site = 'codeengn.com'\n",
      "\n",
      "    for key_2 in f_r_2 :\n",
      "        if (max_frequency < f_r_2[key_2]) :\n",
      "            max_frequency = f_r_2[key_2]\n",
      "            max_frequency_string = key_2\n",
      "            max_frequency_site = 'cse.koreatech.ac.kr'\n",
      "\n",
      "    for key_3 in f_r_3 :\n",
      "        if (max_frequency < f_r_3[key_3]) :\n",
      "            max_frequency = f_r_3[key_3]\n",
      "            max_frequency_string = key_3\n",
      "            max_frequency_site = 'seed.koreatech.ac.kr'\n",
      "\n",
      "    for key_4 in f_r_4 :\n",
      "        if (max_frequency < f_r_4[key_4]) :\n",
      "            max_frequency = f_r_4[key_4]\n",
      "            max_frequency_string = key_4\n",
      "            max_frequency_site = 'www.owasp.org'\n",
      "\n",
      "    for key_5 in f_r_5 :\n",
      "        if (max_frequency < f_r_5[key_5]) :\n",
      "            max_frequency = f_r_5[key_5]\n",
      "            max_frequency_string = key_5\n",
      "            max_frequency_site = 'www.wowhacker.org'\n",
      "\n",
      "    print '\uac00\uc7a5 \ub9ce\uc774 \ucd9c\ud604\ud55c \ub2e8\uc5b4\uac00 \uc788\ub294 \uc0ac\uc774\ud2b8 \uc8fc\uc18c : ' + max_frequency_site\n",
      "    print '\uac00\uc7a5 \ub9ce\uc774 \ucd9c\ud604\ud55c \ub2e8\uc5b4 : ' + max_frequency_string\n",
      "\n",
      "except IOError as err :\n",
      "    print \"File Error : \" + str(err)\n",
      "except pickle.PickleError as perr :\n",
      "    print \"Pickling Error : \" + str(perr)"
     ],
     "language": "python",
     "metadata": {},
     "outputs": [
      {
       "output_type": "stream",
       "stream": "stdout",
       "text": [
        "\uac00\uc7a5 \ub9ce\uc774 \ucd9c\ud604\ud55c \ub2e8\uc5b4\uac00 \uc788\ub294 \uc0ac\uc774\ud2b8 \uc8fc\uc18c : seed.koreatech.ac.kr\n",
        "\uac00\uc7a5 \ub9ce\uc774 \ucd9c\ud604\ud55c \ub2e8\uc5b4 : by\n"
       ]
      }
     ],
     "prompt_number": 9
    },
    {
     "cell_type": "markdown",
     "metadata": {},
     "source": [
      "<font size = 3pt>\n",
      "\uacb0\uacfc\uac00 \uc81c\ub300\ub85c \ucd9c\ub825\uc774 \ub418\ub294 \uac83\uc744 \ud655\uc778\ud558\uc2e4 \uc218 \uc788\uc2b5\ub2c8\ub2e4.\n",
      "<br>\n",
      "8\ubc88 \ubb38\uc81c\uc5d0\uc11c \ud30c\uc77c\uc744 \uc800\uc7a5\ud560 \ub54c \ud53c\ud074\ub9c1 \uae30\ubc95\uc744 \uc774\uc6a9\ud558\uc600\uc73c\ubbc0\ub85c \ud30c\uc77c\uc744 \ub2e4\uc2dc \uc77d\uc744 \ub54c\uc5d0\ub3c4 \ud53c\ud074\ub9c1 \uae30\ubc95\uc744 \uc774\uc6a9\ud558\uc5ec \uc77d\uc5b4\uc11c \uc218\ud589\uc744 \ud558\uc600\uc2b5\ub2c8\ub2e4.\n",
      "<br>\n",
      "<br>\n",
      "<br></font>\n",
      "<font size = 4pt>3. \uacb0\ub860(\uc18c\uac10)</font>\n",
      "<br>\n",
      "<br>\n",
      "<font size = 3pt>\n",
      "\uc774\ubc88 \uacfc\uc81c\ub97c \uc218\ud589\ud558\uba74\uc11c \ud30c\uc77c \uc785\ucd9c\ub825\uc5d0 \ub300\ud574 \ud655\uc2e4\ud788 \uc775\ud790 \uc218 \uc788\uc5c8\uc73c\uba70 \ub0b4\uac00 \uc6d0\ud558\ub294 \ud568\uc218\ub97c \uc5b4\ub5bb\uac8c \ud558\uba74 \ub354 \uac04\ub2e8\ud788 \ub9cc\ub4e4 \uc218 \uc788\ub294\uc9c0\uc5d0 \ub300\ud574 \ub2e4\uc2dc \ud55c \ubc88 \uc54c \uc218 \uc788\uc5c8\uc2b5\ub2c8\ub2e4.</font>"
     ]
    }
   ],
   "metadata": {}
  }
 ]
}